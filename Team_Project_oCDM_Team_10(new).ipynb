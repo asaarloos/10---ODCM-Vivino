{
  "cells": [
    {
      "cell_type": "markdown",
      "metadata": {},
      "source": [
        "# Team Project - OCDM\n",
        "\n",
        "## Explanation \n",
        "In this document is the code written to scrape the data from vivino, to look at if price have influence on the ratings of the different wines.\n",
        "\n",
        "### Code\n",
        "We will use selenium and Beautifull Soup in this document"
      ]
    },
    {
      "cell_type": "markdown",
      "metadata": {},
      "source": [
        "#### Install the packages & librabies \n",
        "\n",
        "Explanation what we are doing:"
      ]
    },
    {
      "cell_type": "code",
      "execution_count": 107,
      "metadata": {
        "colab": {
          "base_uri": "https://localhost:8080/",
          "height": 1000
        },
        "id": "KqSSIap269zb",
        "outputId": "2e966433-ea96-4460-e83b-c65fc6cb8bf0"
      },
      "outputs": [
        {
          "name": "stdout",
          "output_type": "stream",
          "text": [
            "Requirement already satisfied: selenium in c:\\users\\31637\\anaconda3\\lib\\site-packages (4.25.0)\n",
            "Requirement already satisfied: trio-websocket~=0.9 in c:\\users\\31637\\anaconda3\\lib\\site-packages (from selenium) (0.11.1)\n",
            "Requirement already satisfied: trio~=0.17 in c:\\users\\31637\\anaconda3\\lib\\site-packages (from selenium) (0.26.2)\n",
            "Requirement already satisfied: typing_extensions~=4.9 in c:\\users\\31637\\anaconda3\\lib\\site-packages (from selenium) (4.12.2)\n",
            "Requirement already satisfied: certifi>=2021.10.8 in c:\\users\\31637\\anaconda3\\lib\\site-packages (from selenium) (2021.10.8)\n",
            "Requirement already satisfied: websocket-client~=1.8 in c:\\users\\31637\\anaconda3\\lib\\site-packages (from selenium) (1.8.0)\n",
            "Requirement already satisfied: urllib3[socks]<3,>=1.26 in c:\\users\\31637\\anaconda3\\lib\\site-packages (from selenium) (1.26.7)\n",
            "Requirement already satisfied: sniffio>=1.3.0 in c:\\users\\31637\\anaconda3\\lib\\site-packages (from trio~=0.17->selenium) (1.3.1)\n",
            "Requirement already satisfied: idna in c:\\users\\31637\\anaconda3\\lib\\site-packages (from trio~=0.17->selenium) (3.2)\n",
            "Requirement already satisfied: attrs>=23.2.0 in c:\\users\\31637\\anaconda3\\lib\\site-packages (from trio~=0.17->selenium) (24.2.0)\n",
            "Requirement already satisfied: sortedcontainers in c:\\users\\31637\\anaconda3\\lib\\site-packages (from trio~=0.17->selenium) (2.4.0)\n",
            "Requirement already satisfied: cffi>=1.14 in c:\\users\\31637\\anaconda3\\lib\\site-packages (from trio~=0.17->selenium) (1.14.6)\n",
            "Requirement already satisfied: exceptiongroup in c:\\users\\31637\\anaconda3\\lib\\site-packages (from trio~=0.17->selenium) (1.2.2)\n",
            "Requirement already satisfied: outcome in c:\\users\\31637\\anaconda3\\lib\\site-packages (from trio~=0.17->selenium) (1.3.0.post0)\n",
            "Requirement already satisfied: pycparser in c:\\users\\31637\\anaconda3\\lib\\site-packages (from cffi>=1.14->trio~=0.17->selenium) (2.20)\n",
            "Requirement already satisfied: wsproto>=0.14 in c:\\users\\31637\\anaconda3\\lib\\site-packages (from trio-websocket~=0.9->selenium) (1.2.0)\n",
            "Requirement already satisfied: PySocks!=1.5.7,<2.0,>=1.5.6 in c:\\users\\31637\\anaconda3\\lib\\site-packages (from urllib3[socks]<3,>=1.26->selenium) (1.7.1)\n",
            "Requirement already satisfied: h11<1,>=0.9.0 in c:\\users\\31637\\anaconda3\\lib\\site-packages (from wsproto>=0.14->trio-websocket~=0.9->selenium) (0.14.0)\n",
            "Requirement already satisfied: webdriver_manager in c:\\users\\31637\\anaconda3\\lib\\site-packages (4.0.2)\n",
            "Requirement already satisfied: packaging in c:\\users\\31637\\anaconda3\\lib\\site-packages (from webdriver_manager) (24.1)\n",
            "Requirement already satisfied: requests in c:\\users\\31637\\anaconda3\\lib\\site-packages (from webdriver_manager) (2.26.0)\n",
            "Requirement already satisfied: python-dotenv in c:\\users\\31637\\anaconda3\\lib\\site-packages (from webdriver_manager) (1.0.1)\n",
            "Requirement already satisfied: charset-normalizer~=2.0.0 in c:\\users\\31637\\anaconda3\\lib\\site-packages (from requests->webdriver_manager) (2.0.4)\n",
            "Requirement already satisfied: certifi>=2017.4.17 in c:\\users\\31637\\anaconda3\\lib\\site-packages (from requests->webdriver_manager) (2021.10.8)\n",
            "Requirement already satisfied: idna<4,>=2.5 in c:\\users\\31637\\anaconda3\\lib\\site-packages (from requests->webdriver_manager) (3.2)\n",
            "Requirement already satisfied: urllib3<1.27,>=1.21.1 in c:\\users\\31637\\anaconda3\\lib\\site-packages (from requests->webdriver_manager) (1.26.7)\n"
          ]
        }
      ],
      "source": [
        "#installing packages\n",
        "\n",
        "!pip3 install selenium\n",
        "!pip3 install webdriver_manager\n",
        "\n",
        "#libraries\n",
        "\n",
        "from selenium import webdriver\n",
        "from selenium.webdriver.chrome.service import Service\n",
        "from selenium.webdriver.common.by import By\n",
        "from webdriver_manager.chrome import ChromeDriverManager\n",
        "\n",
        "# import requests\n",
        "# import from bs4 import BeautifulSoup\n",
        "import requests\n",
        "from bs4 import BeautifulSoup\n",
        "import time"
      ]
    },
    {
      "cell_type": "markdown",
      "metadata": {},
      "source": [
        "## Red wines \n",
        "\n",
        "In the cells below we are gonna collect the data of the red wines. To be safe that the code don´t break, we seperate the code into two benchmarks where we first collect the data of the red wines in the price range between 0-20 euro´s."
      ]
    },
    {
      "cell_type": "markdown",
      "metadata": {},
      "source": [
        "\n",
        "### Red wines in the price range 0-10"
      ]
    },
    {
      "cell_type": "code",
      "execution_count": 108,
      "metadata": {},
      "outputs": [],
      "source": [
        "service = Service(ChromeDriverManager().install())\n",
        "driver = webdriver.Chrome(service=service)\n",
        "\n",
        "# Opening the 'Vivino' website\n",
        "url = \"https://www.vivino.com/explore?e=eJzLLbI1VMvNzLM1UMtNrLA1NFBLrrT181FLtnUNDVIrAEqmp9mWJRZlppYk5qjlF6XYpqQWJ6vlJ1XaFhRlJqeqlZdExwJVJVcWA-nUYjUwCQC3hRy5\"\n",
        "driver.get(url)\n",
        "\n",
        "# Optional: Adding some wait time for the page to fully load if needed\n",
        "driver.implicitly_wait(10)  # 10 seconds\n",
        "time.sleep(20)"
      ]
    },
    {
      "cell_type": "code",
      "execution_count": 109,
      "metadata": {},
      "outputs": [
        {
          "name": "stdout",
          "output_type": "stream",
          "text": [
            "Cookies accepted.\n"
          ]
        }
      ],
      "source": [
        "try:\n",
        "    # Create a function to click away the cookies\n",
        "    accept_cookies_button = driver.find_element(By.ID,\"didomi-notice-agree-button\")\n",
        "    accept_cookies_button.click()\n",
        "    print(\"Cookies accepted.\")\n",
        "except Exception as e:\n",
        "    print(\"Cookie acceptance button not found or could not be clicked:\", e)\n"
      ]
    },
    {
      "cell_type": "markdown",
      "metadata": {},
      "source": [
        "The code below provides to taggle the infinity scroll, this takes a long time like (15 minutes) till the end of the infitity scroll."
      ]
    },
    {
      "cell_type": "code",
      "execution_count": 110,
      "metadata": {},
      "outputs": [],
      "source": [
        "from bs4 import BeautifulSoup\n",
        "import time\n",
        "driver.implicitly_wait(10)\n",
        "\n",
        "# Infinite scroll to load more content\n",
        "scroll_pause_time = 5  # Adjust if necessary\n",
        "last_height = driver.execute_script(\"return document.body.scrollHeight\")\n",
        "\n",
        "while True:\n",
        "    # Scroll down to the bottom of the page\n",
        "    driver.execute_script(\"window.scrollTo(0, document.body.scrollHeight);\")\n",
        "    \n",
        "    # Wait for the new page to load\n",
        "    time.sleep(scroll_pause_time)\n",
        "    \n",
        "    # Calculate new scroll height and compare with the last scroll height\n",
        "    new_height = driver.execute_script(\"return document.body.scrollHeight\")\n",
        "    if new_height == last_height:\n",
        "        break  # Stop if we've reached the end of the page\n",
        "    last_height = new_height\n",
        "\n",
        "# Get the final page source after all content is loaded\n",
        "page_source = driver.page_source\n",
        "\n",
        "# Parse the page source with BeautifulSoup\n",
        "soup = BeautifulSoup(page_source, 'html.parser')"
      ]
    },
    {
      "cell_type": "markdown",
      "metadata": {},
      "source": [
        "Scraping all the data"
      ]
    },
    {
      "cell_type": "code",
      "execution_count": 111,
      "metadata": {},
      "outputs": [],
      "source": [
        "import csv\n",
        "from bs4 import BeautifulSoup\n",
        "\n",
        "# Create empty lists to store the data\n",
        "brands = []\n",
        "wines = []\n",
        "ratings = []\n",
        "prices = []\n",
        "\n",
        "# Find all wine entries on the page\n",
        "wine_entries = soup.find_all(class_='card__card--2R5Wh wineCard__wineCardContent--3cwZt')\n",
        "\n",
        "for entry in wine_entries:\n",
        "    # Extract brand\n",
        "    brand = entry.find(class_='wineInfoVintage__truncate--3QAtw')\n",
        "    if brand:\n",
        "        brands.append(brand.get_text(strip=True))\n",
        "\n",
        "    # Extract wine name\n",
        "    wine = entry.find(class_='wineInfoVintage__vintage--VvWlU wineInfoVintage__truncate--3QAtw') \n",
        "    if wine:\n",
        "        wines.append(wine.get_text(strip=True))\n",
        "\n",
        "    # Extract rating\n",
        "    rating = entry.find(class_='vivinoRating_averageValue__uDdPM')\n",
        "    if rating:\n",
        "        ratings.append(rating.get_text(strip=True))\n",
        "\n",
        "# Check for the presence of the discount first\n",
        "    discount_price_div = entry.find(class_='price_strike__mOVjZ addToCart__subText--1pvFt')\n",
        "    if discount_price_div:\n",
        "        # If discount exist, get the original price\n",
        "        discount_price_text = discount_price_div.get_text(strip=True)\n",
        "        price_only = discount_price_text.split()[-1]  # Get the last part (currency + price)\n",
        "        prices.append(price_only)  # Append only the discount price to the list\n",
        "    \n",
        "    else:  \n",
        "        # Extract currency & price if present in the addToCartButton\n",
        "        price_divs = entry.find_all(class_='addToCartButton__price--qJdh4')\n",
        "        if price_divs:  # If primary price class exists\n",
        "            for price_div in price_divs:\n",
        "                currency = price_div.find('div', class_='addToCartButton__currency--2CTNX')\n",
        "                price = price_div.find_all('div')[1]  # Assuming price is in the second div\n",
        "                full_price = f\"{currency.get_text(strip=True) if currency else ''}{price.get_text(strip=True) if price else ''}\"\n",
        "                prices.append(full_price)  # Save the full price\n",
        "        else:  # If not present, extract price from alternative class (online verkrijgbaar vanaf...)\n",
        "            alt_price_div = entry.find(class_='addToCart__subText--1pvFt addToCart__ppcPrice--ydrd5')\n",
        "            if alt_price_div:\n",
        "                alt_price_text = alt_price_div.get_text(strip=True)\n",
        "                price_only = alt_price_text.split()[-1]  # Get the last part (currency + price)\n",
        "                prices.append(price_only)  # Append only the price to the list"
      ]
    },
    {
      "cell_type": "markdown",
      "metadata": {},
      "source": [
        "Saving the data to a CSV file"
      ]
    },
    {
      "cell_type": "code",
      "execution_count": 112,
      "metadata": {},
      "outputs": [
        {
          "name": "stdout",
          "output_type": "stream",
          "text": [
            "Data saved to 'red_wine_0_10.csv' successfully.\n"
          ]
        }
      ],
      "source": [
        "with open('red_wine_0_10.csv', mode='w', newline='', encoding='utf-8') as file:\n",
        "    writer = csv.writer(file)\n",
        "\n",
        "    # Write the header row\n",
        "    writer.writerow(['Brand', 'Wine', 'Rating', 'Price'])\n",
        "\n",
        "    # Write the data rows\n",
        "    for brand, wine, rating, price in zip(brands, wines, ratings, prices):\n",
        "        writer.writerow([\n",
        "            brand,\n",
        "            wine,\n",
        "            rating,\n",
        "            price\n",
        "        ])\n",
        "\n",
        "print(\"Data saved to 'red_wine_0_10.csv' successfully.\")\n"
      ]
    },
    {
      "cell_type": "markdown",
      "metadata": {},
      "source": [
        "### Red Wine within price range 10-20 euro"
      ]
    },
    {
      "cell_type": "code",
      "execution_count": 113,
      "metadata": {
        "colab": {
          "base_uri": "https://localhost:8080/"
        },
        "id": "0a1wIksLtzn3",
        "outputId": "d38ff9f9-8853-4fe5-df9a-f165abfd79d0"
      },
      "outputs": [],
      "source": [
        "service = Service(ChromeDriverManager().install())\n",
        "driver = webdriver.Chrome(service=service)\n",
        "\n",
        "# Opening the 'Vivino' website\n",
        "url = 'https://www.vivino.com/explore?e=eJzLLbI1VMvNzLM1NFDLTaywNTJQS6609fNRS7Z1DQ1SKwDKpqfZliUWZaaWJOao5Rel2KakFier5SdV2hYUZSanqpWXRMcCVSVXFgPp1GI1MAkAya8c6w%3D%3D'\n",
        "driver.get(url)\n",
        "\n",
        "# Optional: Adding some wait time for the page to fully load if needed\n",
        "driver.implicitly_wait(10)  # 10 seconds\n",
        "time.sleep(20)\n"
      ]
    },
    {
      "cell_type": "code",
      "execution_count": 114,
      "metadata": {},
      "outputs": [
        {
          "name": "stdout",
          "output_type": "stream",
          "text": [
            "Cookies accepted.\n"
          ]
        }
      ],
      "source": [
        "try:\n",
        "    # Create a function to click away the cookies\n",
        "    accept_cookies_button = driver.find_element(By.ID,\"didomi-notice-agree-button\")\n",
        "    accept_cookies_button.click()\n",
        "    print(\"Cookies accepted.\")\n",
        "except Exception as e:\n",
        "    print(\"Cookie acceptance button not found or could not be clicked:\", e)"
      ]
    },
    {
      "cell_type": "code",
      "execution_count": 115,
      "metadata": {},
      "outputs": [],
      "source": [
        "from bs4 import BeautifulSoup\n",
        "import time\n",
        "driver.implicitly_wait(30)\n",
        "\n",
        "# Infinite scroll to load more content\n",
        "scroll_pause_time = 5  # Adjust if necessary\n",
        "last_height = driver.execute_script(\"return document.body.scrollHeight\")\n",
        "\n",
        "while True:\n",
        "    # Scroll down to the bottom of the page\n",
        "    driver.execute_script(\"window.scrollTo(0, document.body.scrollHeight);\")\n",
        "    \n",
        "    # Wait for the new page to load\n",
        "    time.sleep(scroll_pause_time)\n",
        "    \n",
        "    # Calculate new scroll height and compare with the last scroll height\n",
        "    new_height = driver.execute_script(\"return document.body.scrollHeight\")\n",
        "    if new_height == last_height:\n",
        "        break  # Stop if we've reached the end of the page\n",
        "    last_height = new_height\n",
        "\n",
        "# Get the final page source after all content is loaded\n",
        "page_source = driver.page_source\n",
        "\n",
        "# Parse the page source with BeautifulSoup\n",
        "soup = BeautifulSoup(page_source, 'html.parser')"
      ]
    },
    {
      "cell_type": "code",
      "execution_count": 116,
      "metadata": {},
      "outputs": [],
      "source": [
        "import csv\n",
        "from bs4 import BeautifulSoup\n",
        "\n",
        "# Create empty lists to store the data\n",
        "brands = []\n",
        "wines = []\n",
        "ratings = []\n",
        "prices = []\n",
        "\n",
        "# Find all wine entries on the page\n",
        "wine_entries = soup.find_all(class_='card__card--2R5Wh wineCard__wineCardContent--3cwZt')\n",
        "\n",
        "for entry in wine_entries:\n",
        "    # Extract brand\n",
        "    brand = entry.find(class_='wineInfoVintage__truncate--3QAtw')\n",
        "    if brand:\n",
        "        brands.append(brand.get_text(strip=True))\n",
        "\n",
        "    # Extract wine name\n",
        "    wine = entry.find(class_='wineInfoVintage__vintage--VvWlU wineInfoVintage__truncate--3QAtw') \n",
        "    if wine:\n",
        "        wines.append(wine.get_text(strip=True))\n",
        "\n",
        "    # Extract rating\n",
        "    rating = entry.find(class_='vivinoRating_averageValue__uDdPM')\n",
        "    if rating:\n",
        "        ratings.append(rating.get_text(strip=True))\n",
        "\n",
        "# Check for the presence of the discount first\n",
        "    discount_price_div = entry.find(class_='price_strike__mOVjZ addToCart__subText--1pvFt')\n",
        "    if discount_price_div:\n",
        "        # If discount exist, get the original price\n",
        "        discount_price_text = discount_price_div.get_text(strip=True)\n",
        "        price_only = discount_price_text.split()[-1]  # Get the last part (currency + price)\n",
        "        prices.append(price_only)  # Append only the discount price to the list\n",
        "    \n",
        "    else:  \n",
        "        # Extract currency & price if present in the addToCartButton\n",
        "        price_divs = entry.find_all(class_='addToCartButton__price--qJdh4')\n",
        "        if price_divs:  # If primary price class exists\n",
        "            for price_div in price_divs:\n",
        "                currency = price_div.find('div', class_='addToCartButton__currency--2CTNX')\n",
        "                price = price_div.find_all('div')[1]  # Assuming price is in the second div\n",
        "                full_price = f\"{currency.get_text(strip=True) if currency else ''}{price.get_text(strip=True) if price else ''}\"\n",
        "                prices.append(full_price)  # Save the full price\n",
        "        else:  # If not present, extract price from alternative class (online verkrijgbaar vanaf...)\n",
        "            alt_price_div = entry.find(class_='addToCart__subText--1pvFt addToCart__ppcPrice--ydrd5')\n",
        "            if alt_price_div:\n",
        "                alt_price_text = alt_price_div.get_text(strip=True)\n",
        "                price_only = alt_price_text.split()[-1]  # Get the last part (currency + price)\n",
        "                prices.append(price_only)  # Append only the price to the list"
      ]
    },
    {
      "cell_type": "code",
      "execution_count": 117,
      "metadata": {},
      "outputs": [
        {
          "name": "stdout",
          "output_type": "stream",
          "text": [
            "Data saved to 'red_wine_10_20.csv' successfully.\n"
          ]
        }
      ],
      "source": [
        "with open('red_wine_10_20.csv', mode='w', newline='', encoding='utf-8') as file:\n",
        "    writer = csv.writer(file)\n",
        "\n",
        "    # Write the header row\n",
        "    writer.writerow(['Brand', 'Wine', 'Rating', 'Price'])\n",
        "\n",
        "    # Write the data rows\n",
        "    for brand, wine, rating, price in zip(brands, wines, ratings, prices):\n",
        "        writer.writerow([\n",
        "            brand,\n",
        "            wine,\n",
        "            rating,\n",
        "            price\n",
        "        ])\n",
        "\n",
        "print(\"Data saved to 'red_wine_10_20.csv' successfully.\")\n"
      ]
    },
    {
      "cell_type": "markdown",
      "metadata": {},
      "source": [
        "### Red Wine within price range 20-40 euro"
      ]
    },
    {
      "cell_type": "code",
      "execution_count": 118,
      "metadata": {},
      "outputs": [],
      "source": [
        "service = Service(ChromeDriverManager().install())\n",
        "driver = webdriver.Chrome(service=service)\n",
        "\n",
        "# Opening the 'Vivino' website\n",
        "url = 'https://www.vivino.com/explore?e=eJzLLbI1VMvNzLM1MlDLTaywNTFQS6609fNRS7Z1DQ1SKwDKpqfZliUWZaaWJOao5Rel2KakFier5SdV2hYUZSanqpWXRMcCVSVXFgPp1GI1MAkAyosc7g%3D%3D'\n",
        "driver.get(url)\n",
        "\n",
        "# Optional: Adding some wait time for the page to fully load if needed\n",
        "driver.implicitly_wait(10)  # 10 seconds\n",
        "time.sleep(20)\n"
      ]
    },
    {
      "cell_type": "code",
      "execution_count": 119,
      "metadata": {},
      "outputs": [
        {
          "name": "stdout",
          "output_type": "stream",
          "text": [
            "Cookies accepted.\n"
          ]
        }
      ],
      "source": [
        "try:\n",
        "    # Create a function to click away the cookies\n",
        "    accept_cookies_button = driver.find_element(By.ID,\"didomi-notice-agree-button\")\n",
        "    accept_cookies_button.click()\n",
        "    print(\"Cookies accepted.\")\n",
        "except Exception as e:\n",
        "    print(\"Cookie acceptance button not found or could not be clicked:\", e)"
      ]
    },
    {
      "cell_type": "code",
      "execution_count": 120,
      "metadata": {},
      "outputs": [],
      "source": [
        "from bs4 import BeautifulSoup\n",
        "import time\n",
        "driver.implicitly_wait(30)\n",
        "\n",
        "# Infinite scroll to load more content\n",
        "scroll_pause_time = 5  # Adjust if necessary\n",
        "last_height = driver.execute_script(\"return document.body.scrollHeight\")\n",
        "\n",
        "while True:\n",
        "    # Scroll down to the bottom of the page\n",
        "    driver.execute_script(\"window.scrollTo(0, document.body.scrollHeight);\")\n",
        "    \n",
        "    # Wait for the new page to load\n",
        "    time.sleep(scroll_pause_time)\n",
        "    \n",
        "    # Calculate new scroll height and compare with the last scroll height\n",
        "    new_height = driver.execute_script(\"return document.body.scrollHeight\")\n",
        "    if new_height == last_height:\n",
        "        break  # Stop if we've reached the end of the page\n",
        "    last_height = new_height\n",
        "\n",
        "# Get the final page source after all content is loaded\n",
        "page_source = driver.page_source\n",
        "\n",
        "# Parse the page source with BeautifulSoup\n",
        "soup = BeautifulSoup(page_source, 'html.parser')"
      ]
    },
    {
      "cell_type": "code",
      "execution_count": 121,
      "metadata": {},
      "outputs": [],
      "source": [
        "import csv\n",
        "from bs4 import BeautifulSoup\n",
        "\n",
        "# Create empty lists to store the data\n",
        "brands = []\n",
        "wines = []\n",
        "ratings = []\n",
        "prices = []\n",
        "\n",
        "# Find all wine entries on the page\n",
        "wine_entries = soup.find_all(class_='card__card--2R5Wh wineCard__wineCardContent--3cwZt')\n",
        "\n",
        "for entry in wine_entries:\n",
        "    # Extract brand\n",
        "    brand = entry.find(class_='wineInfoVintage__truncate--3QAtw')\n",
        "    if brand:\n",
        "        brands.append(brand.get_text(strip=True))\n",
        "\n",
        "    # Extract wine name\n",
        "    wine = entry.find(class_='wineInfoVintage__vintage--VvWlU wineInfoVintage__truncate--3QAtw') \n",
        "    if wine:\n",
        "        wines.append(wine.get_text(strip=True))\n",
        "\n",
        "    # Extract rating\n",
        "    rating = entry.find(class_='vivinoRating_averageValue__uDdPM')\n",
        "    if rating:\n",
        "        ratings.append(rating.get_text(strip=True))\n",
        "\n",
        "# Check for the presence of the discount first\n",
        "    discount_price_div = entry.find(class_='price_strike__mOVjZ addToCart__subText--1pvFt')\n",
        "    if discount_price_div:\n",
        "        # If discount exist, get the original price\n",
        "        discount_price_text = discount_price_div.get_text(strip=True)\n",
        "        price_only = discount_price_text.split()[-1]  # Get the last part (currency + price)\n",
        "        prices.append(price_only)  # Append only the discount price to the list\n",
        "    \n",
        "    else:  \n",
        "        # Extract currency & price if present in the addToCartButton\n",
        "        price_divs = entry.find_all(class_='addToCartButton__price--qJdh4')\n",
        "        if price_divs:  # If primary price class exists\n",
        "            for price_div in price_divs:\n",
        "                currency = price_div.find('div', class_='addToCartButton__currency--2CTNX')\n",
        "                price = price_div.find_all('div')[1]  # Assuming price is in the second div\n",
        "                full_price = f\"{currency.get_text(strip=True) if currency else ''}{price.get_text(strip=True) if price else ''}\"\n",
        "                prices.append(full_price)  # Save the full price\n",
        "        else:  # If not present, extract price from alternative class (online verkrijgbaar vanaf...)\n",
        "            alt_price_div = entry.find(class_='addToCart__subText--1pvFt addToCart__ppcPrice--ydrd5')\n",
        "            if alt_price_div:\n",
        "                alt_price_text = alt_price_div.get_text(strip=True)\n",
        "                price_only = alt_price_text.split()[-1]  # Get the last part (currency + price)\n",
        "                prices.append(price_only)  # Append only the price to the list"
      ]
    },
    {
      "cell_type": "code",
      "execution_count": 122,
      "metadata": {},
      "outputs": [
        {
          "name": "stdout",
          "output_type": "stream",
          "text": [
            "Data saved to 'red_wine_20_40.csv' successfully.\n"
          ]
        }
      ],
      "source": [
        "with open('red_wine_20_40.csv', mode='w', newline='', encoding='utf-8') as file:\n",
        "    writer = csv.writer(file)\n",
        "\n",
        "    # Write the header row\n",
        "    writer.writerow(['Brand', 'Wine', 'Rating', 'Price'])\n",
        "\n",
        "    # Write the data rows\n",
        "    for brand, wine, rating, price in zip(brands, wines, ratings, prices):\n",
        "        writer.writerow([\n",
        "            brand,\n",
        "            wine,\n",
        "            rating,\n",
        "            price\n",
        "        ])\n",
        "\n",
        "print(\"Data saved to 'red_wine_20_40.csv' successfully.\")\n"
      ]
    },
    {
      "cell_type": "markdown",
      "metadata": {},
      "source": [
        "### Red Wine within price range 40-500 euro"
      ]
    },
    {
      "cell_type": "code",
      "execution_count": 123,
      "metadata": {},
      "outputs": [],
      "source": [
        "service = Service(ChromeDriverManager().install())\n",
        "driver = webdriver.Chrome(service=service)\n",
        "\n",
        "# Opening the 'Vivino' website\n",
        "url = 'https://www.vivino.com/explore?e=eJzLLbI1VMvNzLM1MVDLTaywNTUwUEuutPXzUUu2dQ0NUisASqen2ZYlFmWmliTmqOUXpdimpBYnq-UnVdoWFGUmp6qVl0THAlUlVxYD6dRiNTAJAN31HSE%3D'\n",
        "driver.get(url)\n",
        "\n",
        "# Optional: Adding some wait time for the page to fully load if needed\n",
        "driver.implicitly_wait(10)  # 10 seconds\n",
        "time.sleep(20)\n"
      ]
    },
    {
      "cell_type": "code",
      "execution_count": 124,
      "metadata": {},
      "outputs": [
        {
          "name": "stdout",
          "output_type": "stream",
          "text": [
            "Cookies accepted.\n"
          ]
        }
      ],
      "source": [
        "try:\n",
        "    # Create a function to click away the cookies\n",
        "    accept_cookies_button = driver.find_element(By.ID,\"didomi-notice-agree-button\")\n",
        "    accept_cookies_button.click()\n",
        "    print(\"Cookies accepted.\")\n",
        "except Exception as e:\n",
        "    print(\"Cookie acceptance button not found or could not be clicked:\", e)"
      ]
    },
    {
      "cell_type": "code",
      "execution_count": 125,
      "metadata": {},
      "outputs": [],
      "source": [
        "from bs4 import BeautifulSoup\n",
        "import time\n",
        "driver.implicitly_wait(30)\n",
        "\n",
        "# Infinite scroll to load more content\n",
        "scroll_pause_time = 5  # Adjust if necessary\n",
        "last_height = driver.execute_script(\"return document.body.scrollHeight\")\n",
        "\n",
        "while True:\n",
        "    # Scroll down to the bottom of the page\n",
        "    driver.execute_script(\"window.scrollTo(0, document.body.scrollHeight);\")\n",
        "    \n",
        "    # Wait for the new page to load\n",
        "    time.sleep(scroll_pause_time)\n",
        "    \n",
        "    # Calculate new scroll height and compare with the last scroll height\n",
        "    new_height = driver.execute_script(\"return document.body.scrollHeight\")\n",
        "    if new_height == last_height:\n",
        "        break  # Stop if we've reached the end of the page\n",
        "    last_height = new_height\n",
        "\n",
        "# Get the final page source after all content is loaded\n",
        "page_source = driver.page_source\n",
        "\n",
        "# Parse the page source with BeautifulSoup\n",
        "soup = BeautifulSoup(page_source, 'html.parser')"
      ]
    },
    {
      "cell_type": "code",
      "execution_count": 126,
      "metadata": {},
      "outputs": [],
      "source": [
        "import csv\n",
        "from bs4 import BeautifulSoup\n",
        "\n",
        "# Create empty lists to store the data\n",
        "brands = []\n",
        "wines = []\n",
        "ratings = []\n",
        "prices = []\n",
        "\n",
        "# Find all wine entries on the page\n",
        "wine_entries = soup.find_all(class_='card__card--2R5Wh wineCard__wineCardContent--3cwZt')\n",
        "\n",
        "for entry in wine_entries:\n",
        "    # Extract brand\n",
        "    brand = entry.find(class_='wineInfoVintage__truncate--3QAtw')\n",
        "    if brand:\n",
        "        brands.append(brand.get_text(strip=True))\n",
        "\n",
        "    # Extract wine name\n",
        "    wine = entry.find(class_='wineInfoVintage__vintage--VvWlU wineInfoVintage__truncate--3QAtw') \n",
        "    if wine:\n",
        "        wines.append(wine.get_text(strip=True))\n",
        "\n",
        "    # Extract rating\n",
        "    rating = entry.find(class_='vivinoRating_averageValue__uDdPM')\n",
        "    if rating:\n",
        "        ratings.append(rating.get_text(strip=True))\n",
        "\n",
        "# Check for the presence of the discount first\n",
        "    discount_price_div = entry.find(class_='price_strike__mOVjZ addToCart__subText--1pvFt')\n",
        "    if discount_price_div:\n",
        "        # If discount exist, get the original price\n",
        "        discount_price_text = discount_price_div.get_text(strip=True)\n",
        "        price_only = discount_price_text.split()[-1]  # Get the last part (currency + price)\n",
        "        prices.append(price_only)  # Append only the discount price to the list\n",
        "    \n",
        "    else:  \n",
        "        # Extract currency & price if present in the addToCartButton\n",
        "        price_divs = entry.find_all(class_='addToCartButton__price--qJdh4')\n",
        "        if price_divs:  # If primary price class exists\n",
        "            for price_div in price_divs:\n",
        "                currency = price_div.find('div', class_='addToCartButton__currency--2CTNX')\n",
        "                price = price_div.find_all('div')[1]  # Assuming price is in the second div\n",
        "                full_price = f\"{currency.get_text(strip=True) if currency else ''}{price.get_text(strip=True) if price else ''}\"\n",
        "                prices.append(full_price)  # Save the full price\n",
        "        else:  # If not present, extract price from alternative class (online verkrijgbaar vanaf...)\n",
        "            alt_price_div = entry.find(class_='addToCart__subText--1pvFt addToCart__ppcPrice--ydrd5')\n",
        "            if alt_price_div:\n",
        "                alt_price_text = alt_price_div.get_text(strip=True)\n",
        "                price_only = alt_price_text.split()[-1]  # Get the last part (currency + price)\n",
        "                prices.append(price_only)  # Append only the price to the list"
      ]
    },
    {
      "cell_type": "code",
      "execution_count": 127,
      "metadata": {},
      "outputs": [
        {
          "name": "stdout",
          "output_type": "stream",
          "text": [
            "Data saved to 'red_wine_40_500.csv' successfully.\n"
          ]
        }
      ],
      "source": [
        "with open('red_wine_40_500.csv', mode='w', newline='', encoding='utf-8') as file:\n",
        "    writer = csv.writer(file)\n",
        "\n",
        "    # Write the header row\n",
        "    writer.writerow(['Brand', 'Wine', 'Rating', 'Price'])\n",
        "\n",
        "    # Write the data rows\n",
        "    for brand, wine, rating, price in zip(brands, wines, ratings, prices):\n",
        "        writer.writerow([\n",
        "            brand,\n",
        "            wine,\n",
        "            rating,\n",
        "            price\n",
        "        ])\n",
        "\n",
        "print(\"Data saved to 'red_wine_40_500.csv' successfully.\")\n"
      ]
    },
    {
      "cell_type": "markdown",
      "metadata": {},
      "source": [
        "## White Wines\n",
        "In the cells below, we are gonna collect the data of the white wines. To be safe that the code will not break and that we have to wait long to collect the data, we have created benchmark."
      ]
    },
    {
      "cell_type": "markdown",
      "metadata": {},
      "source": [
        "### White wines within price range 0-20 euros."
      ]
    },
    {
      "cell_type": "code",
      "execution_count": 128,
      "metadata": {
        "colab": {
          "base_uri": "https://localhost:8080/"
        },
        "id": "rTEMkIL-ymZW",
        "outputId": "6ca6a896-c27e-455a-f109-85dda755bc68"
      },
      "outputs": [],
      "source": [
        "## Witte Spaanse Wijnen 0-200 euro\n",
        "\n",
        "\n",
        "service = Service(ChromeDriverManager().install())\n",
        "driver = webdriver.Chrome(service=service)\n",
        "\n",
        "# Opening the 'Vivino' website\n",
        "url = 'https://www.vivino.com/explore?e=eJzLLbI1VMvNzLM1UMtNrLA1MlBLrrT181FLtnUNDVIrAEqmp9mWJRZlppYk5qjlF6XYJhYnq-UnVdoWFGUmp6qVl0TH2hoBNRUD6dRiNTAJAJlRHFM%3D'\n",
        "driver.get(url)\n",
        "\n",
        "# Optional: Adding some wait time for the page to fully load if needed\n",
        "\n",
        "driver.implicitly_wait(10)  # 10 seconds \n",
        "time.sleep(20)"
      ]
    },
    {
      "cell_type": "code",
      "execution_count": 129,
      "metadata": {},
      "outputs": [
        {
          "name": "stdout",
          "output_type": "stream",
          "text": [
            "Cookies accepted.\n"
          ]
        }
      ],
      "source": [
        "try:\n",
        "    # Create a function to click away the cookies\n",
        "    accept_cookies_button = driver.find_element(By.ID,\"didomi-notice-agree-button\")\n",
        "    accept_cookies_button.click()\n",
        "    print(\"Cookies accepted.\")\n",
        "except Exception as e:\n",
        "    print(\"Cookie acceptance button not found or could not be clicked:\", e)\n"
      ]
    },
    {
      "cell_type": "code",
      "execution_count": 130,
      "metadata": {},
      "outputs": [],
      "source": [
        "from bs4 import BeautifulSoup\n",
        "import time\n",
        "driver.implicitly_wait(10)\n",
        "\n",
        "# Infinite scroll to load more content\n",
        "scroll_pause_time = 5  # Adjust if necessary\n",
        "last_height = driver.execute_script(\"return document.body.scrollHeight\")\n",
        "\n",
        "while True:\n",
        "    # Scroll down to the bottom of the page\n",
        "    driver.execute_script(\"window.scrollTo(0, document.body.scrollHeight);\")\n",
        "    \n",
        "    # Wait for the new page to load\n",
        "    time.sleep(scroll_pause_time)\n",
        "    \n",
        "    # Calculate new scroll height and compare with the last scroll height\n",
        "    new_height = driver.execute_script(\"return document.body.scrollHeight\")\n",
        "    if new_height == last_height:\n",
        "        break  # Stop if we've reached the end of the page\n",
        "    last_height = new_height\n",
        "\n",
        "# Get the final page source after all content is loaded\n",
        "page_source = driver.page_source\n",
        "\n",
        "# Parse the page source with BeautifulSoup\n",
        "soup = BeautifulSoup(page_source, 'html.parser')"
      ]
    },
    {
      "cell_type": "code",
      "execution_count": 131,
      "metadata": {},
      "outputs": [],
      "source": [
        "import csv\n",
        "from bs4 import BeautifulSoup\n",
        "\n",
        "# Create empty lists to store the data\n",
        "brands = []\n",
        "wines = []\n",
        "ratings = []\n",
        "prices = []\n",
        "\n",
        "# Find all wine entries on the page\n",
        "wine_entries = soup.find_all(class_='card__card--2R5Wh wineCard__wineCardContent--3cwZt')\n",
        "\n",
        "for entry in wine_entries:\n",
        "    # Extract brand\n",
        "    brand = entry.find(class_='wineInfoVintage__truncate--3QAtw')\n",
        "    if brand:\n",
        "        brands.append(brand.get_text(strip=True))\n",
        "\n",
        "    # Extract wine name\n",
        "    wine = entry.find(class_='wineInfoVintage__vintage--VvWlU wineInfoVintage__truncate--3QAtw') \n",
        "    if wine:\n",
        "        wines.append(wine.get_text(strip=True))\n",
        "\n",
        "    # Extract rating\n",
        "    rating = entry.find(class_='vivinoRating_averageValue__uDdPM')\n",
        "    if rating:\n",
        "        ratings.append(rating.get_text(strip=True))\n",
        "\n",
        "# Check for the presence of the discount first\n",
        "    discount_price_div = entry.find(class_='price_strike__mOVjZ addToCart__subText--1pvFt')\n",
        "    if discount_price_div:\n",
        "        # If discount exist, get the original price\n",
        "        discount_price_text = discount_price_div.get_text(strip=True)\n",
        "        price_only = discount_price_text.split()[-1]  # Get the last part (currency + price)\n",
        "        prices.append(price_only)  # Append only the discount price to the list\n",
        "    \n",
        "    else:  \n",
        "        # Extract currency & price if present in the addToCartButton\n",
        "        price_divs = entry.find_all(class_='addToCartButton__price--qJdh4')\n",
        "        if price_divs:  # If primary price class exists\n",
        "            for price_div in price_divs:\n",
        "                currency = price_div.find('div', class_='addToCartButton__currency--2CTNX')\n",
        "                price = price_div.find_all('div')[1]  # Assuming price is in the second div\n",
        "                full_price = f\"{currency.get_text(strip=True) if currency else ''}{price.get_text(strip=True) if price else ''}\"\n",
        "                prices.append(full_price)  # Save the full price\n",
        "        else:  # If not present, extract price from alternative class (online verkrijgbaar vanaf...)\n",
        "            alt_price_div = entry.find(class_='addToCart__subText--1pvFt addToCart__ppcPrice--ydrd5')\n",
        "            if alt_price_div:\n",
        "                alt_price_text = alt_price_div.get_text(strip=True)\n",
        "                price_only = alt_price_text.split()[-1]  # Get the last part (currency + price)\n",
        "                prices.append(price_only)  # Append only the price to the list"
      ]
    },
    {
      "cell_type": "code",
      "execution_count": 132,
      "metadata": {},
      "outputs": [
        {
          "name": "stdout",
          "output_type": "stream",
          "text": [
            "Data saved to 'white_wine_0_20.csv' successfully.\n"
          ]
        }
      ],
      "source": [
        "with open('white_wine_0_20.csv', mode='w', newline='', encoding='utf-8') as file:\n",
        "    writer = csv.writer(file)\n",
        "\n",
        "    # Write the header row\n",
        "    writer.writerow(['Brand', 'Wine', 'Rating', 'Price'])\n",
        "\n",
        "    # Write the data rows\n",
        "    for brand, wine, rating, price in zip(brands, wines, ratings, prices):\n",
        "        writer.writerow([\n",
        "            brand,\n",
        "            wine,\n",
        "            rating,\n",
        "            price\n",
        "        ])\n",
        "\n",
        "print(\"Data saved to 'white_wine_0_20.csv' successfully.\")\n"
      ]
    },
    {
      "cell_type": "markdown",
      "metadata": {},
      "source": [
        "### White wine within the price range 20-500 euro"
      ]
    },
    {
      "cell_type": "code",
      "execution_count": 133,
      "metadata": {
        "colab": {
          "base_uri": "https://localhost:8080/"
        },
        "id": "pMlQwHNP0Lil",
        "outputId": "b0e70f60-c3fe-4464-e274-cb6278f16fbc"
      },
      "outputs": [],
      "source": [
        "## Witte Spaanse Wijnen 21-500 euro\n",
        "\n",
        "service = Service(ChromeDriverManager().install())\n",
        "driver = webdriver.Chrome(service=service)\n",
        "\n",
        "# Opening the 'Vivino' website\n",
        "url = 'https://www.vivino.com/explore?e=eJzLLbI1VMvNzLM1MlDLTaywNTUwUEuutPXzUUu2dQ0NUisASqen2ZYlFmWmliTmqOUXpdgmFier5SdV2hYUZSanqpWXRMfaGgE1FQPp1GI1MAkAvnccuA%3D%3D'\n",
        "driver.get(url)\n",
        "\n",
        "# Optional: Adding some wait time for the page to fully load if needed\n",
        "\n",
        "driver.implicitly_wait(10)  # 10 seconds \n",
        "time.sleep(20)"
      ]
    },
    {
      "cell_type": "code",
      "execution_count": 134,
      "metadata": {},
      "outputs": [
        {
          "name": "stdout",
          "output_type": "stream",
          "text": [
            "Cookies accepted.\n"
          ]
        }
      ],
      "source": [
        "try:\n",
        "    # Create a function to click away the cookies\n",
        "    accept_cookies_button = driver.find_element(By.ID,\"didomi-notice-agree-button\")\n",
        "    accept_cookies_button.click()\n",
        "    print(\"Cookies accepted.\")\n",
        "except Exception as e:\n",
        "    print(\"Cookie acceptance button not found or could not be clicked:\", e)\n",
        "    "
      ]
    },
    {
      "cell_type": "code",
      "execution_count": 135,
      "metadata": {},
      "outputs": [],
      "source": [
        "from bs4 import BeautifulSoup\n",
        "import time\n",
        "driver.implicitly_wait(10)\n",
        "\n",
        "# Infinite scroll to load more content\n",
        "scroll_pause_time = 5  # Adjust if necessary\n",
        "last_height = driver.execute_script(\"return document.body.scrollHeight\")\n",
        "\n",
        "while True:\n",
        "    # Scroll down to the bottom of the page\n",
        "    driver.execute_script(\"window.scrollTo(0, document.body.scrollHeight);\")\n",
        "    \n",
        "    # Wait for the new page to load\n",
        "    time.sleep(scroll_pause_time)\n",
        "    \n",
        "    # Calculate new scroll height and compare with the last scroll height\n",
        "    new_height = driver.execute_script(\"return document.body.scrollHeight\")\n",
        "    if new_height == last_height:\n",
        "        break  # Stop if we've reached the end of the page\n",
        "    last_height = new_height\n",
        "\n",
        "# Get the final page source after all content is loaded\n",
        "page_source = driver.page_source\n",
        "\n",
        "# Parse the page source with BeautifulSoup\n",
        "soup = BeautifulSoup(page_source, 'html.parser')"
      ]
    },
    {
      "cell_type": "code",
      "execution_count": 136,
      "metadata": {},
      "outputs": [],
      "source": [
        "import csv\n",
        "from bs4 import BeautifulSoup\n",
        "\n",
        "# Create empty lists to store the data\n",
        "brands = []\n",
        "wines = []\n",
        "ratings = []\n",
        "prices = []\n",
        "\n",
        "# Find all wine entries on the page\n",
        "wine_entries = soup.find_all(class_='card__card--2R5Wh wineCard__wineCardContent--3cwZt')\n",
        "\n",
        "for entry in wine_entries:\n",
        "    # Extract brand\n",
        "    brand = entry.find(class_='wineInfoVintage__truncate--3QAtw')\n",
        "    if brand:\n",
        "        brands.append(brand.get_text(strip=True))\n",
        "\n",
        "    # Extract wine name\n",
        "    wine = entry.find(class_='wineInfoVintage__vintage--VvWlU wineInfoVintage__truncate--3QAtw') \n",
        "    if wine:\n",
        "        wines.append(wine.get_text(strip=True))\n",
        "\n",
        "    # Extract rating\n",
        "    rating = entry.find(class_='vivinoRating_averageValue__uDdPM')\n",
        "    if rating:\n",
        "        ratings.append(rating.get_text(strip=True))\n",
        "\n",
        "# Check for the presence of the discount first\n",
        "    discount_price_div = entry.find(class_='price_strike__mOVjZ addToCart__subText--1pvFt')\n",
        "    if discount_price_div:\n",
        "        # If discount exist, get the original price\n",
        "        discount_price_text = discount_price_div.get_text(strip=True)\n",
        "        price_only = discount_price_text.split()[-1]  # Get the last part (currency + price)\n",
        "        prices.append(price_only)  # Append only the discount price to the list\n",
        "    \n",
        "    else:  \n",
        "        # Extract currency & price if present in the addToCartButton\n",
        "        price_divs = entry.find_all(class_='addToCartButton__price--qJdh4')\n",
        "        if price_divs:  # If primary price class exists\n",
        "            for price_div in price_divs:\n",
        "                currency = price_div.find('div', class_='addToCartButton__currency--2CTNX')\n",
        "                price = price_div.find_all('div')[1]  # Assuming price is in the second div\n",
        "                full_price = f\"{currency.get_text(strip=True) if currency else ''}{price.get_text(strip=True) if price else ''}\"\n",
        "                prices.append(full_price)  # Save the full price\n",
        "        else:  # If not present, extract price from alternative class (online verkrijgbaar vanaf...)\n",
        "            alt_price_div = entry.find(class_='addToCart__subText--1pvFt addToCart__ppcPrice--ydrd5')\n",
        "            if alt_price_div:\n",
        "                alt_price_text = alt_price_div.get_text(strip=True)\n",
        "                price_only = alt_price_text.split()[-1]  # Get the last part (currency + price)\n",
        "                prices.append(price_only)  # Append only the price to the list"
      ]
    },
    {
      "cell_type": "code",
      "execution_count": 137,
      "metadata": {},
      "outputs": [
        {
          "name": "stdout",
          "output_type": "stream",
          "text": [
            "Data saved to 'white_wine_20_500.csv' successfully.\n"
          ]
        }
      ],
      "source": [
        "with open('white_wine_20_500.csv', mode='w', newline='', encoding='utf-8') as file:\n",
        "    writer = csv.writer(file)\n",
        "\n",
        "    # Write the header row\n",
        "    writer.writerow(['Brand', 'Wine', 'Rating', 'Price'])\n",
        "\n",
        "    # Write the data rows\n",
        "    for brand, wine, rating, price in zip(brands, wines, ratings, prices):\n",
        "        writer.writerow([\n",
        "            brand,\n",
        "            wine,\n",
        "            rating,\n",
        "            price\n",
        "        ])\n",
        "\n",
        "print(\"Data saved to 'white_wine_20_500.csv' successfully.\")"
      ]
    },
    {
      "cell_type": "markdown",
      "metadata": {},
      "source": [
        "## Rose Wine\n",
        "some text"
      ]
    },
    {
      "cell_type": "code",
      "execution_count": 138,
      "metadata": {
        "colab": {
          "base_uri": "https://localhost:8080/"
        },
        "id": "RadMpxRG1JFH",
        "outputId": "2ccca26b-1fab-4823-a0a4-4d2396e5876d"
      },
      "outputs": [],
      "source": [
        "#Rose wines 0-500\n",
        "\n",
        "service = Service(ChromeDriverManager().install())\n",
        "driver = webdriver.Chrome(service=service)\n",
        "\n",
        "# Opening the 'Vivino' website\n",
        "url = 'https://www.vivino.com/explore?e=eJwdi70KgCAABt_mmw1q_Ma2aAiaIsLMQkgNtb-3T1ruhuNsYAFrHAWsfFgJAfWybaBY9x2OXLeVlwxGJ7nDh4WLjgp-fhlkMm6Lk_KnS7jTMLLMd8zWET8_0d4gXQ%3D%3D'\n",
        "driver.get(url)\n",
        "\n",
        "# Optional: Adding some wait time for the page to fully load if needed\n",
        "\n",
        "driver.implicitly_wait(10)  # 10 seconds \n",
        "time.sleep(20)"
      ]
    },
    {
      "cell_type": "code",
      "execution_count": 139,
      "metadata": {},
      "outputs": [
        {
          "name": "stdout",
          "output_type": "stream",
          "text": [
            "Cookies accepted.\n"
          ]
        }
      ],
      "source": [
        "try:\n",
        "    # Create a function to click away the cookies\n",
        "    accept_cookies_button = driver.find_element(By.ID,\"didomi-notice-agree-button\")\n",
        "    accept_cookies_button.click()\n",
        "    print(\"Cookies accepted.\")\n",
        "except Exception as e:\n",
        "    print(\"Cookie acceptance button not found or could not be clicked:\", e)"
      ]
    },
    {
      "cell_type": "code",
      "execution_count": 140,
      "metadata": {},
      "outputs": [],
      "source": [
        "from bs4 import BeautifulSoup\n",
        "import time\n",
        "driver.implicitly_wait(10)\n",
        "\n",
        "# Infinite scroll to load more content\n",
        "scroll_pause_time = 5  # Adjust if necessary\n",
        "last_height = driver.execute_script(\"return document.body.scrollHeight\")\n",
        "\n",
        "while True:\n",
        "    # Scroll down to the bottom of the page\n",
        "    driver.execute_script(\"window.scrollTo(0, document.body.scrollHeight);\")\n",
        "    \n",
        "    # Wait for the new page to load\n",
        "    time.sleep(scroll_pause_time)\n",
        "    \n",
        "    # Calculate new scroll height and compare with the last scroll height\n",
        "    new_height = driver.execute_script(\"return document.body.scrollHeight\")\n",
        "    if new_height == last_height:\n",
        "        break  # Stop if we've reached the end of the page\n",
        "    last_height = new_height\n",
        "\n",
        "# Get the final page source after all content is loaded\n",
        "page_source = driver.page_source\n",
        "\n",
        "# Parse the page source with BeautifulSoup\n",
        "soup = BeautifulSoup(page_source, 'html.parser')"
      ]
    },
    {
      "cell_type": "code",
      "execution_count": 141,
      "metadata": {},
      "outputs": [],
      "source": [
        "import csv\n",
        "from bs4 import BeautifulSoup\n",
        "\n",
        "# Create empty lists to store the data\n",
        "brands = []\n",
        "wines = []\n",
        "ratings = []\n",
        "prices = []\n",
        "\n",
        "# Find all wine entries on the page\n",
        "wine_entries = soup.find_all(class_='card__card--2R5Wh wineCard__wineCardContent--3cwZt')\n",
        "\n",
        "for entry in wine_entries:\n",
        "    # Extract brand\n",
        "    brand = entry.find(class_='wineInfoVintage__truncate--3QAtw')\n",
        "    if brand:\n",
        "        brands.append(brand.get_text(strip=True))\n",
        "\n",
        "    # Extract wine name\n",
        "    wine = entry.find(class_='wineInfoVintage__vintage--VvWlU wineInfoVintage__truncate--3QAtw') \n",
        "    if wine:\n",
        "        wines.append(wine.get_text(strip=True))\n",
        "\n",
        "    # Extract rating\n",
        "    rating = entry.find(class_='vivinoRating_averageValue__uDdPM')\n",
        "    if rating:\n",
        "        ratings.append(rating.get_text(strip=True))\n",
        "\n",
        "# Check for the presence of the discount first\n",
        "    discount_price_div = entry.find(class_='price_strike__mOVjZ addToCart__subText--1pvFt')\n",
        "    if discount_price_div:\n",
        "        # If discount exist, get the original price\n",
        "        discount_price_text = discount_price_div.get_text(strip=True)\n",
        "        price_only = discount_price_text.split()[-1]  # Get the last part (currency + price)\n",
        "        prices.append(price_only)  # Append only the discount price to the list\n",
        "    \n",
        "    else:  \n",
        "        # Extract currency & price if present in the addToCartButton\n",
        "        price_divs = entry.find_all(class_='addToCartButton__price--qJdh4')\n",
        "        if price_divs:  # If primary price class exists\n",
        "            for price_div in price_divs:\n",
        "                currency = price_div.find('div', class_='addToCartButton__currency--2CTNX')\n",
        "                price = price_div.find_all('div')[1]  # Assuming price is in the second div\n",
        "                full_price = f\"{currency.get_text(strip=True) if currency else ''}{price.get_text(strip=True) if price else ''}\"\n",
        "                prices.append(full_price)  # Save the full price\n",
        "        else:  # If not present, extract price from alternative class (online verkrijgbaar vanaf...)\n",
        "            alt_price_div = entry.find(class_='addToCart__subText--1pvFt addToCart__ppcPrice--ydrd5')\n",
        "            if alt_price_div:\n",
        "                alt_price_text = alt_price_div.get_text(strip=True)\n",
        "                price_only = alt_price_text.split()[-1]  # Get the last part (currency + price)\n",
        "                prices.append(price_only)  # Append only the price to the list"
      ]
    },
    {
      "cell_type": "code",
      "execution_count": 142,
      "metadata": {},
      "outputs": [
        {
          "name": "stdout",
          "output_type": "stream",
          "text": [
            "Data saved to 'rose_wine.csv' successfully.\n"
          ]
        }
      ],
      "source": [
        "with open('rose_wine.csv', mode='w', newline='', encoding='utf-8') as file:\n",
        "    writer = csv.writer(file)\n",
        "\n",
        "    # Write the header row\n",
        "    writer.writerow(['Brand', 'Wine', 'Rating', 'Price'])\n",
        "\n",
        "    # Write the data rows\n",
        "    for brand, wine, rating, price in zip(brands, wines, ratings, prices):\n",
        "        writer.writerow([\n",
        "            brand,\n",
        "            wine,\n",
        "            rating,\n",
        "            price\n",
        "        ])\n",
        "\n",
        "print(\"Data saved to 'rose_wine.csv' successfully.\")"
      ]
    },
    {
      "cell_type": "markdown",
      "metadata": {},
      "source": [
        "## Sparkling Wine\n",
        "Nog aanpassen"
      ]
    },
    {
      "cell_type": "code",
      "execution_count": 143,
      "metadata": {
        "colab": {
          "base_uri": "https://localhost:8080/"
        },
        "id": "UINhqcAS1xOF",
        "outputId": "4faa9a9e-cf58-4f06-9c22-782b953c848b"
      },
      "outputs": [],
      "source": [
        "## Witte Spaanse Wijnen 21-500 euro\n",
        "\n",
        "service = Service(ChromeDriverManager().install())\n",
        "driver = webdriver.Chrome(service=service)\n",
        "\n",
        "# Opening the 'Vivino' website\n",
        "url = 'https://www.vivino.com/explore?e=eJwdi70KgCAABt_mm41o_Ma2aAiaIsLMQkgNtb-3T1ruhuNsYAFrHAWsfFgJAfWybaBY9x2OXLeVlwxGJ7nDh4WLjgp-fhlkMm6Lk_KnS7jTMLLMd8zWET8_0c4gXA%3D%3D'\n",
        "driver.get(url)\n",
        "\n",
        "# Optional: Adding some wait time for the page to fully load if needed\n",
        "\n",
        "driver.implicitly_wait(10)  # 10 seconds \n",
        "time.sleep(20)"
      ]
    },
    {
      "cell_type": "code",
      "execution_count": 144,
      "metadata": {},
      "outputs": [
        {
          "name": "stdout",
          "output_type": "stream",
          "text": [
            "Cookies accepted.\n"
          ]
        }
      ],
      "source": [
        "try:\n",
        "    # Create a function to click away the cookies\n",
        "    accept_cookies_button = driver.find_element(By.ID,\"didomi-notice-agree-button\")\n",
        "    accept_cookies_button.click()\n",
        "    print(\"Cookies accepted.\")\n",
        "except Exception as e:\n",
        "    print(\"Cookie acceptance button not found or could not be clicked:\", e)"
      ]
    },
    {
      "cell_type": "code",
      "execution_count": 145,
      "metadata": {},
      "outputs": [],
      "source": [
        "from bs4 import BeautifulSoup\n",
        "import time\n",
        "driver.implicitly_wait(10)\n",
        "\n",
        "# Infinite scroll to load more content\n",
        "scroll_pause_time = 5  # Adjust if necessary\n",
        "last_height = driver.execute_script(\"return document.body.scrollHeight\")\n",
        "\n",
        "while True:\n",
        "    # Scroll down to the bottom of the page\n",
        "    driver.execute_script(\"window.scrollTo(0, document.body.scrollHeight);\")\n",
        "    \n",
        "    # Wait for the new page to load\n",
        "    time.sleep(scroll_pause_time)\n",
        "    \n",
        "    # Calculate new scroll height and compare with the last scroll height\n",
        "    new_height = driver.execute_script(\"return document.body.scrollHeight\")\n",
        "    if new_height == last_height:\n",
        "        break  # Stop if we've reached the end of the page\n",
        "    last_height = new_height\n",
        "\n",
        "# Get the final page source after all content is loaded\n",
        "page_source = driver.page_source\n",
        "\n",
        "# Parse the page source with BeautifulSoup\n",
        "soup = BeautifulSoup(page_source, 'html.parser')"
      ]
    },
    {
      "cell_type": "code",
      "execution_count": 146,
      "metadata": {},
      "outputs": [],
      "source": [
        "import csv\n",
        "from bs4 import BeautifulSoup\n",
        "\n",
        "# Create empty lists to store the data\n",
        "brands = []\n",
        "wines = []\n",
        "ratings = []\n",
        "prices = []\n",
        "\n",
        "# Find all wine entries on the page\n",
        "wine_entries = soup.find_all(class_='card__card--2R5Wh wineCard__wineCardContent--3cwZt')\n",
        "\n",
        "for entry in wine_entries:\n",
        "    # Extract brand\n",
        "    brand = entry.find(class_='wineInfoVintage__truncate--3QAtw')\n",
        "    if brand:\n",
        "        brands.append(brand.get_text(strip=True))\n",
        "\n",
        "    # Extract wine name\n",
        "    wine = entry.find(class_='wineInfoVintage__vintage--VvWlU wineInfoVintage__truncate--3QAtw') \n",
        "    if wine:\n",
        "        wines.append(wine.get_text(strip=True))\n",
        "\n",
        "    # Extract rating\n",
        "    rating = entry.find(class_='vivinoRating_averageValue__uDdPM')\n",
        "    if rating:\n",
        "        ratings.append(rating.get_text(strip=True))\n",
        "\n",
        "# Check for the presence of the discount first\n",
        "    discount_price_div = entry.find(class_='price_strike__mOVjZ addToCart__subText--1pvFt')\n",
        "    if discount_price_div:\n",
        "        # If discount exist, get the original price\n",
        "        discount_price_text = discount_price_div.get_text(strip=True)\n",
        "        price_only = discount_price_text.split()[-1]  # Get the last part (currency + price)\n",
        "        prices.append(price_only)  # Append only the discount price to the list\n",
        "    \n",
        "    else:  \n",
        "        # Extract currency & price if present in the addToCartButton\n",
        "        price_divs = entry.find_all(class_='addToCartButton__price--qJdh4')\n",
        "        if price_divs:  # If primary price class exists\n",
        "            for price_div in price_divs:\n",
        "                currency = price_div.find('div', class_='addToCartButton__currency--2CTNX')\n",
        "                price = price_div.find_all('div')[1]  # Assuming price is in the second div\n",
        "                full_price = f\"{currency.get_text(strip=True) if currency else ''}{price.get_text(strip=True) if price else ''}\"\n",
        "                prices.append(full_price)  # Save the full price\n",
        "        else:  # If not present, extract price from alternative class (online verkrijgbaar vanaf...)\n",
        "            alt_price_div = entry.find(class_='addToCart__subText--1pvFt addToCart__ppcPrice--ydrd5')\n",
        "            if alt_price_div:\n",
        "                alt_price_text = alt_price_div.get_text(strip=True)\n",
        "                price_only = alt_price_text.split()[-1]  # Get the last part (currency + price)\n",
        "                prices.append(price_only)  # Append only the price to the list"
      ]
    },
    {
      "cell_type": "code",
      "execution_count": 147,
      "metadata": {},
      "outputs": [
        {
          "name": "stdout",
          "output_type": "stream",
          "text": [
            "Data saved to 'sparkling_wines.csv' successfully.\n"
          ]
        }
      ],
      "source": [
        "with open('sparkling_wines.csv', mode='w', newline='', encoding='utf-8') as file:\n",
        "    writer = csv.writer(file)\n",
        "\n",
        "    # Write the header row\n",
        "    writer.writerow(['Brand', 'Wine', 'Rating', 'Price'])\n",
        "\n",
        "    # Write the data rows\n",
        "    for brand, wine, rating, price in zip(brands, wines, ratings, prices):\n",
        "        writer.writerow([\n",
        "            brand,\n",
        "            wine,\n",
        "            rating,\n",
        "            price\n",
        "        ])\n",
        "\n",
        "print(\"Data saved to 'sparkling_wines.csv' successfully.\")"
      ]
    },
    {
      "cell_type": "markdown",
      "metadata": {},
      "source": [
        "## Dessert wine\n",
        "Some text"
      ]
    },
    {
      "cell_type": "code",
      "execution_count": 148,
      "metadata": {},
      "outputs": [],
      "source": [
        "# Dessert wines 0-500 \n",
        "\n",
        "service = Service(ChromeDriverManager().install())\n",
        "driver = webdriver.Chrome(service=service)\n",
        "\n",
        "# Opening the 'Vivino' website\n",
        "url = 'https://www.vivino.com/explore?e=eJwdi70KgCAABt_mm22Ipm9si4agKSLMLITUUPt7-6TlbjjOBhawxlHAyoelEFAv2waKdd_hyHVbeclgdJI7fFi46Kjg55dBJuO2OCl_uoQ7DSOrfMdsHfHzA9IOIGA%3D'\n",
        "driver.get(url)\n",
        "\n",
        "# Optional: Adding some wait time for the page to fully load if needed\n",
        "\n",
        "driver.implicitly_wait(10)  # 10 seconds \n",
        "time.sleep(20)"
      ]
    },
    {
      "cell_type": "code",
      "execution_count": 149,
      "metadata": {},
      "outputs": [
        {
          "name": "stdout",
          "output_type": "stream",
          "text": [
            "Cookies accepted.\n"
          ]
        }
      ],
      "source": [
        "try:\n",
        "    # Create a function to click away the cookies\n",
        "    accept_cookies_button = driver.find_element(By.ID,\"didomi-notice-agree-button\")\n",
        "    accept_cookies_button.click()\n",
        "    print(\"Cookies accepted.\")\n",
        "except Exception as e:\n",
        "    print(\"Cookie acceptance button not found or could not be clicked:\", e)"
      ]
    },
    {
      "cell_type": "code",
      "execution_count": 150,
      "metadata": {},
      "outputs": [],
      "source": [
        "from bs4 import BeautifulSoup\n",
        "import time\n",
        "driver.implicitly_wait(10)\n",
        "\n",
        "# Infinite scroll to load more content\n",
        "scroll_pause_time = 5  # Adjust if necessary\n",
        "last_height = driver.execute_script(\"return document.body.scrollHeight\")\n",
        "\n",
        "while True:\n",
        "    # Scroll down to the bottom of the page\n",
        "    driver.execute_script(\"window.scrollTo(0, document.body.scrollHeight);\")\n",
        "    \n",
        "    # Wait for the new page to load\n",
        "    time.sleep(scroll_pause_time)\n",
        "    \n",
        "    # Calculate new scroll height and compare with the last scroll height\n",
        "    new_height = driver.execute_script(\"return document.body.scrollHeight\")\n",
        "    if new_height == last_height:\n",
        "        break  # Stop if we've reached the end of the page\n",
        "    last_height = new_height\n",
        "\n",
        "# Get the final page source after all content is loaded\n",
        "page_source = driver.page_source\n",
        "\n",
        "# Parse the page source with BeautifulSoup\n",
        "soup = BeautifulSoup(page_source, 'html.parser')"
      ]
    },
    {
      "cell_type": "code",
      "execution_count": 151,
      "metadata": {},
      "outputs": [],
      "source": [
        "import csv\n",
        "from bs4 import BeautifulSoup\n",
        "\n",
        "# Create empty lists to store the data\n",
        "brands = []\n",
        "wines = []\n",
        "ratings = []\n",
        "prices = []\n",
        "\n",
        "# Find all wine entries on the page\n",
        "wine_entries = soup.find_all(class_='card__card--2R5Wh wineCard__wineCardContent--3cwZt')\n",
        "\n",
        "for entry in wine_entries:\n",
        "    # Extract brand\n",
        "    brand = entry.find(class_='wineInfoVintage__truncate--3QAtw')\n",
        "    if brand:\n",
        "        brands.append(brand.get_text(strip=True))\n",
        "\n",
        "    # Extract wine name\n",
        "    wine = entry.find(class_='wineInfoVintage__vintage--VvWlU wineInfoVintage__truncate--3QAtw') \n",
        "    if wine:\n",
        "        wines.append(wine.get_text(strip=True))\n",
        "\n",
        "    # Extract rating\n",
        "    rating = entry.find(class_='vivinoRating_averageValue__uDdPM')\n",
        "    if rating:\n",
        "        ratings.append(rating.get_text(strip=True))\n",
        "\n",
        "# Check for the presence of the discount first\n",
        "    discount_price_div = entry.find(class_='price_strike__mOVjZ addToCart__subText--1pvFt')\n",
        "    if discount_price_div:\n",
        "        # If discount exist, get the original price\n",
        "        discount_price_text = discount_price_div.get_text(strip=True)\n",
        "        price_only = discount_price_text.split()[-1]  # Get the last part (currency + price)\n",
        "        prices.append(price_only)  # Append only the discount price to the list\n",
        "    \n",
        "    else:  \n",
        "        # Extract currency & price if present in the addToCartButton\n",
        "        price_divs = entry.find_all(class_='addToCartButton__price--qJdh4')\n",
        "        if price_divs:  # If primary price class exists\n",
        "            for price_div in price_divs:\n",
        "                currency = price_div.find('div', class_='addToCartButton__currency--2CTNX')\n",
        "                price = price_div.find_all('div')[1]  # Assuming price is in the second div\n",
        "                full_price = f\"{currency.get_text(strip=True) if currency else ''}{price.get_text(strip=True) if price else ''}\"\n",
        "                prices.append(full_price)  # Save the full price\n",
        "        else:  # If not present, extract price from alternative class (online verkrijgbaar vanaf...)\n",
        "            alt_price_div = entry.find(class_='addToCart__subText--1pvFt addToCart__ppcPrice--ydrd5')\n",
        "            if alt_price_div:\n",
        "                alt_price_text = alt_price_div.get_text(strip=True)\n",
        "                price_only = alt_price_text.split()[-1]  # Get the last part (currency + price)\n",
        "                prices.append(price_only)  # Append only the price to the list"
      ]
    },
    {
      "cell_type": "code",
      "execution_count": 152,
      "metadata": {},
      "outputs": [
        {
          "name": "stdout",
          "output_type": "stream",
          "text": [
            "Data saved to 'dessert_wines.csv' successfully.\n"
          ]
        }
      ],
      "source": [
        "with open('dessert_wines.csv', mode='w', newline='', encoding='utf-8') as file:\n",
        "    writer = csv.writer(file)\n",
        "\n",
        "    # Write the header row\n",
        "    writer.writerow(['Brand', 'Wine', 'Rating', 'Price'])\n",
        "\n",
        "    # Write the data rows\n",
        "    for brand, wine, rating, price in zip(brands, wines, ratings, prices):\n",
        "        writer.writerow([\n",
        "            brand,\n",
        "            wine,\n",
        "            rating,\n",
        "            price\n",
        "        ])\n",
        "\n",
        "print(\"Data saved to 'dessert_wines.csv' successfully.\")"
      ]
    },
    {
      "cell_type": "markdown",
      "metadata": {},
      "source": [
        "## Fortified Wines\n",
        "\n",
        "Some text"
      ]
    },
    {
      "cell_type": "code",
      "execution_count": 153,
      "metadata": {},
      "outputs": [],
      "source": [
        "# Fortified wines 0-500\n",
        "\n",
        "service = Service(ChromeDriverManager().install())\n",
        "driver = webdriver.Chrome(service=service)\n",
        "\n",
        "# Opening the 'Vivino' website\n",
        "url = 'https://www.vivino.com/explore?e=eJzLLbI1VMvNzLM1UMtNrLA1NTBQS6609fNRS7Z1DQ1SKwDKpqfZliUWZaaWJOao5Rel2CYWJ6vlJ1XaFhRlJqeqlZdEx9oamQB1FQMZqcVqYBIAxtccug%3D%3D'\n",
        "driver.get(url)\n",
        "\n",
        "# Optional: Adding some wait time for the page to fully load if needed\n",
        "\n",
        "driver.implicitly_wait(10)  # 10 seconds \n",
        "time.sleep(20)"
      ]
    },
    {
      "cell_type": "code",
      "execution_count": 154,
      "metadata": {},
      "outputs": [
        {
          "name": "stdout",
          "output_type": "stream",
          "text": [
            "Cookies accepted.\n"
          ]
        }
      ],
      "source": [
        "try:\n",
        "    # Create a function to click away the cookies\n",
        "    accept_cookies_button = driver.find_element(By.ID,\"didomi-notice-agree-button\")\n",
        "    accept_cookies_button.click()\n",
        "    print(\"Cookies accepted.\")\n",
        "except Exception as e:\n",
        "    print(\"Cookie acceptance button not found or could not be clicked:\", e)"
      ]
    },
    {
      "cell_type": "code",
      "execution_count": 155,
      "metadata": {},
      "outputs": [],
      "source": [
        "from bs4 import BeautifulSoup\n",
        "import time\n",
        "driver.implicitly_wait(10)\n",
        "\n",
        "# Infinite scroll to load more content\n",
        "scroll_pause_time = 5  # Adjust if necessary\n",
        "last_height = driver.execute_script(\"return document.body.scrollHeight\")\n",
        "\n",
        "while True:\n",
        "    # Scroll down to the bottom of the page\n",
        "    driver.execute_script(\"window.scrollTo(0, document.body.scrollHeight);\")\n",
        "    \n",
        "    # Wait for the new page to load\n",
        "    time.sleep(scroll_pause_time)\n",
        "    \n",
        "    # Calculate new scroll height and compare with the last scroll height\n",
        "    new_height = driver.execute_script(\"return document.body.scrollHeight\")\n",
        "    if new_height == last_height:\n",
        "        break  # Stop if we've reached the end of the page\n",
        "    last_height = new_height\n",
        "\n",
        "# Get the final page source after all content is loaded\n",
        "page_source = driver.page_source\n",
        "\n",
        "# Parse the page source with BeautifulSoup\n",
        "soup = BeautifulSoup(page_source, 'html.parser')"
      ]
    },
    {
      "cell_type": "code",
      "execution_count": 156,
      "metadata": {},
      "outputs": [],
      "source": [
        "import csv\n",
        "from bs4 import BeautifulSoup\n",
        "\n",
        "# Create empty lists to store the data\n",
        "brands = []\n",
        "wines = []\n",
        "ratings = []\n",
        "prices = []\n",
        "\n",
        "# Find all wine entries on the page\n",
        "wine_entries = soup.find_all(class_='card__card--2R5Wh wineCard__wineCardContent--3cwZt')\n",
        "\n",
        "for entry in wine_entries:\n",
        "    # Extract brand\n",
        "    brand = entry.find(class_='wineInfoVintage__truncate--3QAtw')\n",
        "    if brand:\n",
        "        brands.append(brand.get_text(strip=True))\n",
        "\n",
        "    # Extract wine name\n",
        "    wine = entry.find(class_='wineInfoVintage__vintage--VvWlU wineInfoVintage__truncate--3QAtw') \n",
        "    if wine:\n",
        "        wines.append(wine.get_text(strip=True))\n",
        "\n",
        "    # Extract rating\n",
        "    rating = entry.find(class_='vivinoRating_averageValue__uDdPM')\n",
        "    if rating:\n",
        "        ratings.append(rating.get_text(strip=True))\n",
        "\n",
        "# Check for the presence of the discount first\n",
        "    discount_price_div = entry.find(class_='price_strike__mOVjZ addToCart__subText--1pvFt')\n",
        "    if discount_price_div:\n",
        "        # If discount exist, get the original price\n",
        "        discount_price_text = discount_price_div.get_text(strip=True)\n",
        "        price_only = discount_price_text.split()[-1]  # Get the last part (currency + price)\n",
        "        prices.append(price_only)  # Append only the discount price to the list\n",
        "    \n",
        "    else:  \n",
        "        # Extract currency & price if present in the addToCartButton\n",
        "        price_divs = entry.find_all(class_='addToCartButton__price--qJdh4')\n",
        "        if price_divs:  # If primary price class exists\n",
        "            for price_div in price_divs:\n",
        "                currency = price_div.find('div', class_='addToCartButton__currency--2CTNX')\n",
        "                price = price_div.find_all('div')[1]  # Assuming price is in the second div\n",
        "                full_price = f\"{currency.get_text(strip=True) if currency else ''}{price.get_text(strip=True) if price else ''}\"\n",
        "                prices.append(full_price)  # Save the full price\n",
        "        else:  # If not present, extract price from alternative class (online verkrijgbaar vanaf...)\n",
        "            alt_price_div = entry.find(class_='addToCart__subText--1pvFt addToCart__ppcPrice--ydrd5')\n",
        "            if alt_price_div:\n",
        "                alt_price_text = alt_price_div.get_text(strip=True)\n",
        "                price_only = alt_price_text.split()[-1]  # Get the last part (currency + price)\n",
        "                prices.append(price_only)  # Append only the price to the list"
      ]
    },
    {
      "cell_type": "code",
      "execution_count": 157,
      "metadata": {},
      "outputs": [
        {
          "name": "stdout",
          "output_type": "stream",
          "text": [
            "Data saved to 'fortified_wines' successfully.\n"
          ]
        }
      ],
      "source": [
        "with open('fortified_wines.csv', mode='w', newline='', encoding='utf-8') as file:\n",
        "    writer = csv.writer(file)\n",
        "\n",
        "    # Write the header row\n",
        "    writer.writerow(['Brand', 'Wine', 'Rating', 'Price'])\n",
        "\n",
        "    # Write the data rows\n",
        "    for brand, wine, rating, price in zip(brands, wines, ratings, prices):\n",
        "        writer.writerow([\n",
        "            brand,\n",
        "            wine,\n",
        "            rating,\n",
        "            price\n",
        "        ])\n",
        "\n",
        "print(\"Data saved to 'fortified_wines' successfully.\")"
      ]
    }
  ],
  "metadata": {
    "colab": {
      "provenance": []
    },
    "kernelspec": {
      "display_name": "Python 3",
      "name": "python3"
    },
    "language_info": {
      "codemirror_mode": {
        "name": "ipython",
        "version": 3
      },
      "file_extension": ".py",
      "mimetype": "text/x-python",
      "name": "python",
      "nbconvert_exporter": "python",
      "pygments_lexer": "ipython3",
      "version": "3.9.7"
    }
  },
  "nbformat": 4,
  "nbformat_minor": 0
}
