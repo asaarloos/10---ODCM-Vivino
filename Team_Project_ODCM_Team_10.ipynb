{
  "cells": [
    {
      "cell_type": "markdown",
      "metadata": {},
      "source": [
        "# Team Project - OCDM\n",
        "\n",
        "## Explanation \n",
        "In this document is the code written to scrape the data from vivino, to look at if price have influence on the ratings of the different wines.\n",
        "\n",
        "### Code\n",
        "We will use selenium and Beautifull Soup in this document"
      ]
    },
    {
      "cell_type": "markdown",
      "metadata": {},
      "source": [
        "#### Install the packages & librabies \n",
        "\n",
        "Explanation what we are doing:"
      ]
    },
    {
      "cell_type": "code",
      "execution_count": 18,
      "metadata": {
        "colab": {
          "base_uri": "https://localhost:8080/",
          "height": 1000
        },
        "id": "KqSSIap269zb",
        "outputId": "2e966433-ea96-4460-e83b-c65fc6cb8bf0"
      },
      "outputs": [
        {
          "name": "stdout",
          "output_type": "stream",
          "text": [
            "Defaulting to user installation because normal site-packages is not writeable\n",
            "Requirement already satisfied: selenium in c:\\users\\iris verzijl\\appdata\\roaming\\python\\python312\\site-packages (4.24.0)\n",
            "Requirement already satisfied: urllib3<3,>=1.26 in c:\\programdata\\anaconda3\\lib\\site-packages (from urllib3[socks]<3,>=1.26->selenium) (2.2.2)\n",
            "Requirement already satisfied: trio~=0.17 in c:\\users\\iris verzijl\\appdata\\roaming\\python\\python312\\site-packages (from selenium) (0.26.2)\n",
            "Requirement already satisfied: trio-websocket~=0.9 in c:\\users\\iris verzijl\\appdata\\roaming\\python\\python312\\site-packages (from selenium) (0.11.1)\n",
            "Requirement already satisfied: certifi>=2021.10.8 in c:\\programdata\\anaconda3\\lib\\site-packages (from selenium) (2024.7.4)\n",
            "Requirement already satisfied: typing_extensions~=4.9 in c:\\programdata\\anaconda3\\lib\\site-packages (from selenium) (4.11.0)\n",
            "Requirement already satisfied: websocket-client~=1.8 in c:\\programdata\\anaconda3\\lib\\site-packages (from selenium) (1.8.0)\n",
            "Requirement already satisfied: attrs>=23.2.0 in c:\\users\\iris verzijl\\appdata\\roaming\\python\\python312\\site-packages (from trio~=0.17->selenium) (24.2.0)\n",
            "Requirement already satisfied: sortedcontainers in c:\\programdata\\anaconda3\\lib\\site-packages (from trio~=0.17->selenium) (2.4.0)\n",
            "Requirement already satisfied: idna in c:\\programdata\\anaconda3\\lib\\site-packages (from trio~=0.17->selenium) (3.7)\n",
            "Requirement already satisfied: outcome in c:\\users\\iris verzijl\\appdata\\roaming\\python\\python312\\site-packages (from trio~=0.17->selenium) (1.3.0.post0)\n",
            "Requirement already satisfied: sniffio>=1.3.0 in c:\\programdata\\anaconda3\\lib\\site-packages (from trio~=0.17->selenium) (1.3.0)\n",
            "Requirement already satisfied: cffi>=1.14 in c:\\programdata\\anaconda3\\lib\\site-packages (from trio~=0.17->selenium) (1.16.0)\n",
            "Requirement already satisfied: wsproto>=0.14 in c:\\users\\iris verzijl\\appdata\\roaming\\python\\python312\\site-packages (from trio-websocket~=0.9->selenium) (1.2.0)\n",
            "Requirement already satisfied: pysocks!=1.5.7,<2.0,>=1.5.6 in c:\\programdata\\anaconda3\\lib\\site-packages (from urllib3[socks]<3,>=1.26->selenium) (1.7.1)\n",
            "Requirement already satisfied: pycparser in c:\\programdata\\anaconda3\\lib\\site-packages (from cffi>=1.14->trio~=0.17->selenium) (2.21)\n",
            "Requirement already satisfied: h11<1,>=0.9.0 in c:\\programdata\\anaconda3\\lib\\site-packages (from wsproto>=0.14->trio-websocket~=0.9->selenium) (0.14.0)\n",
            "Defaulting to user installation because normal site-packages is not writeable\n",
            "Requirement already satisfied: webdriver_manager in c:\\users\\iris verzijl\\appdata\\roaming\\python\\python312\\site-packages (4.0.2)\n",
            "Requirement already satisfied: requests in c:\\programdata\\anaconda3\\lib\\site-packages (from webdriver_manager) (2.32.2)\n",
            "Requirement already satisfied: python-dotenv in c:\\programdata\\anaconda3\\lib\\site-packages (from webdriver_manager) (0.21.0)\n",
            "Requirement already satisfied: packaging in c:\\programdata\\anaconda3\\lib\\site-packages (from webdriver_manager) (23.2)\n",
            "Requirement already satisfied: charset-normalizer<4,>=2 in c:\\programdata\\anaconda3\\lib\\site-packages (from requests->webdriver_manager) (2.0.4)\n",
            "Requirement already satisfied: idna<4,>=2.5 in c:\\programdata\\anaconda3\\lib\\site-packages (from requests->webdriver_manager) (3.7)\n",
            "Requirement already satisfied: urllib3<3,>=1.21.1 in c:\\programdata\\anaconda3\\lib\\site-packages (from requests->webdriver_manager) (2.2.2)\n",
            "Requirement already satisfied: certifi>=2017.4.17 in c:\\programdata\\anaconda3\\lib\\site-packages (from requests->webdriver_manager) (2024.7.4)\n"
          ]
        }
      ],
      "source": [
        "#installing packages\n",
        "\n",
        "!pip3 install selenium\n",
        "!pip3 install webdriver_manager\n",
        "\n",
        "#libraries\n",
        "\n",
        "from selenium import webdriver\n",
        "from selenium.webdriver.chrome.service import Service\n",
        "from selenium.webdriver.common.by import By\n",
        "from webdriver_manager.chrome import ChromeDriverManager\n",
        "\n",
        "service = Service(ChromeDriverManager().install())\n",
        "driver = webdriver.Chrome(service=service)\n",
        "\n",
        "# Opening the 'Vivino' website\n",
        "url = \"https://www.vivino.com/explore?e=eJzLLbI1VMvNzLM1UMtNrLA1NTBQS6609fNRS7Z1DQ1SKwDKpqfZliUWZaaWJOao5Rel2KakFier5SdV2ialFpfEF2QmZxerlZdEx9oamQD1FgMZqcVqYBIAh0UfNg%3D%3D\"\n",
        "driver.get(url)\n",
        "\n",
        "# Optional: Adding some wait time for the page to fully load if needed\n",
        "driver.implicitly_wait(10)  # 10 seconds\n"
      ]
    },
    {
      "cell_type": "code",
      "execution_count": 19,
      "metadata": {},
      "outputs": [
        {
          "ename": "KeyboardInterrupt",
          "evalue": "",
          "output_type": "error",
          "traceback": [
            "\u001b[1;31m---------------------------------------------------------------------------\u001b[0m",
            "\u001b[1;31mKeyboardInterrupt\u001b[0m                         Traceback (most recent call last)",
            "Cell \u001b[1;32mIn[19], line 6\u001b[0m\n\u001b[0;32m      3\u001b[0m \u001b[38;5;28;01mfrom\u001b[39;00m \u001b[38;5;21;01mselenium\u001b[39;00m\u001b[38;5;21;01m.\u001b[39;00m\u001b[38;5;21;01mwebdriver\u001b[39;00m\u001b[38;5;21;01m.\u001b[39;00m\u001b[38;5;21;01mcommon\u001b[39;00m\u001b[38;5;21;01m.\u001b[39;00m\u001b[38;5;21;01mby\u001b[39;00m \u001b[38;5;28;01mimport\u001b[39;00m By\n\u001b[0;32m      4\u001b[0m \u001b[38;5;28;01mfrom\u001b[39;00m \u001b[38;5;21;01mwebdriver_manager\u001b[39;00m\u001b[38;5;21;01m.\u001b[39;00m\u001b[38;5;21;01mchrome\u001b[39;00m \u001b[38;5;28;01mimport\u001b[39;00m ChromeDriverManager\n\u001b[1;32m----> 6\u001b[0m service \u001b[38;5;241m=\u001b[39m Service(ChromeDriverManager()\u001b[38;5;241m.\u001b[39minstall())\n\u001b[0;32m      7\u001b[0m driver \u001b[38;5;241m=\u001b[39m webdriver\u001b[38;5;241m.\u001b[39mChrome(service\u001b[38;5;241m=\u001b[39mservice)\n\u001b[0;32m      9\u001b[0m \u001b[38;5;66;03m# Opening the 'Vivino' website\u001b[39;00m\n",
            "File \u001b[1;32m~\\AppData\\Roaming\\Python\\Python312\\site-packages\\webdriver_manager\\chrome.py:40\u001b[0m, in \u001b[0;36mChromeDriverManager.install\u001b[1;34m(self)\u001b[0m\n\u001b[0;32m     39\u001b[0m \u001b[38;5;28;01mdef\u001b[39;00m \u001b[38;5;21minstall\u001b[39m(\u001b[38;5;28mself\u001b[39m) \u001b[38;5;241m-\u001b[39m\u001b[38;5;241m>\u001b[39m \u001b[38;5;28mstr\u001b[39m:\n\u001b[1;32m---> 40\u001b[0m     driver_path \u001b[38;5;241m=\u001b[39m \u001b[38;5;28mself\u001b[39m\u001b[38;5;241m.\u001b[39m_get_driver_binary_path(\u001b[38;5;28mself\u001b[39m\u001b[38;5;241m.\u001b[39mdriver)\n\u001b[0;32m     41\u001b[0m     os\u001b[38;5;241m.\u001b[39mchmod(driver_path, \u001b[38;5;241m0o755\u001b[39m)\n\u001b[0;32m     42\u001b[0m     \u001b[38;5;28;01mreturn\u001b[39;00m driver_path\n",
            "File \u001b[1;32m~\\AppData\\Roaming\\Python\\Python312\\site-packages\\webdriver_manager\\core\\manager.py:35\u001b[0m, in \u001b[0;36mDriverManager._get_driver_binary_path\u001b[1;34m(self, driver)\u001b[0m\n\u001b[0;32m     34\u001b[0m \u001b[38;5;28;01mdef\u001b[39;00m \u001b[38;5;21m_get_driver_binary_path\u001b[39m(\u001b[38;5;28mself\u001b[39m, driver):\n\u001b[1;32m---> 35\u001b[0m     binary_path \u001b[38;5;241m=\u001b[39m \u001b[38;5;28mself\u001b[39m\u001b[38;5;241m.\u001b[39m_cache_manager\u001b[38;5;241m.\u001b[39mfind_driver(driver)\n\u001b[0;32m     36\u001b[0m     \u001b[38;5;28;01mif\u001b[39;00m binary_path:\n\u001b[0;32m     37\u001b[0m         \u001b[38;5;28;01mreturn\u001b[39;00m binary_path\n",
            "File \u001b[1;32m~\\AppData\\Roaming\\Python\\Python312\\site-packages\\webdriver_manager\\core\\driver_cache.py:103\u001b[0m, in \u001b[0;36mDriverCacheManager.find_driver\u001b[1;34m(self, driver)\u001b[0m\n\u001b[0;32m    101\u001b[0m driver_name \u001b[38;5;241m=\u001b[39m driver\u001b[38;5;241m.\u001b[39mget_name()\n\u001b[0;32m    102\u001b[0m browser_type \u001b[38;5;241m=\u001b[39m driver\u001b[38;5;241m.\u001b[39mget_browser_type()\n\u001b[1;32m--> 103\u001b[0m browser_version \u001b[38;5;241m=\u001b[39m \u001b[38;5;28mself\u001b[39m\u001b[38;5;241m.\u001b[39m_os_system_manager\u001b[38;5;241m.\u001b[39mget_browser_version_from_os(browser_type)\n\u001b[0;32m    104\u001b[0m \u001b[38;5;28;01mif\u001b[39;00m \u001b[38;5;129;01mnot\u001b[39;00m browser_version:\n\u001b[0;32m    105\u001b[0m     \u001b[38;5;28;01mreturn\u001b[39;00m \u001b[38;5;28;01mNone\u001b[39;00m\n",
            "File \u001b[1;32m~\\AppData\\Roaming\\Python\\Python312\\site-packages\\webdriver_manager\\core\\os_manager.py:159\u001b[0m, in \u001b[0;36mOperationSystemManager.get_browser_version_from_os\u001b[1;34m(self, browser_type)\u001b[0m\n\u001b[0;32m    157\u001b[0m     cmd_mapping \u001b[38;5;241m=\u001b[39m cmd_mapping[browser_type][OperationSystemManager\u001b[38;5;241m.\u001b[39mget_os_name()]\n\u001b[0;32m    158\u001b[0m     pattern \u001b[38;5;241m=\u001b[39m PATTERN[browser_type]\n\u001b[1;32m--> 159\u001b[0m     version \u001b[38;5;241m=\u001b[39m read_version_from_cmd(cmd_mapping, pattern)\n\u001b[0;32m    160\u001b[0m     \u001b[38;5;28;01mreturn\u001b[39;00m version\n\u001b[0;32m    161\u001b[0m \u001b[38;5;28;01mexcept\u001b[39;00m \u001b[38;5;167;01mException\u001b[39;00m:\n",
            "File \u001b[1;32m~\\AppData\\Roaming\\Python\\Python312\\site-packages\\webdriver_manager\\core\\utils.py:46\u001b[0m, in \u001b[0;36mread_version_from_cmd\u001b[1;34m(cmd, pattern)\u001b[0m\n\u001b[0;32m     38\u001b[0m \u001b[38;5;28;01mdef\u001b[39;00m \u001b[38;5;21mread_version_from_cmd\u001b[39m(cmd, pattern):\n\u001b[0;32m     39\u001b[0m     \u001b[38;5;28;01mwith\u001b[39;00m subprocess\u001b[38;5;241m.\u001b[39mPopen(\n\u001b[0;32m     40\u001b[0m             cmd,\n\u001b[0;32m     41\u001b[0m             stdout\u001b[38;5;241m=\u001b[39msubprocess\u001b[38;5;241m.\u001b[39mPIPE,\n\u001b[1;32m   (...)\u001b[0m\n\u001b[0;32m     44\u001b[0m             shell\u001b[38;5;241m=\u001b[39m\u001b[38;5;28;01mTrue\u001b[39;00m,\n\u001b[0;32m     45\u001b[0m     ) \u001b[38;5;28;01mas\u001b[39;00m stream:\n\u001b[1;32m---> 46\u001b[0m         stdout \u001b[38;5;241m=\u001b[39m stream\u001b[38;5;241m.\u001b[39mcommunicate()[\u001b[38;5;241m0\u001b[39m]\u001b[38;5;241m.\u001b[39mdecode()\n\u001b[0;32m     47\u001b[0m         version \u001b[38;5;241m=\u001b[39m re\u001b[38;5;241m.\u001b[39msearch(pattern, stdout)\n\u001b[0;32m     48\u001b[0m         version \u001b[38;5;241m=\u001b[39m version\u001b[38;5;241m.\u001b[39mgroup(\u001b[38;5;241m0\u001b[39m) \u001b[38;5;28;01mif\u001b[39;00m version \u001b[38;5;28;01melse\u001b[39;00m \u001b[38;5;28;01mNone\u001b[39;00m\n",
            "File \u001b[1;32mc:\\ProgramData\\anaconda3\\Lib\\subprocess.py:1196\u001b[0m, in \u001b[0;36mPopen.communicate\u001b[1;34m(self, input, timeout)\u001b[0m\n\u001b[0;32m   1194\u001b[0m     \u001b[38;5;28mself\u001b[39m\u001b[38;5;241m.\u001b[39m_stdin_write(\u001b[38;5;28minput\u001b[39m)\n\u001b[0;32m   1195\u001b[0m \u001b[38;5;28;01melif\u001b[39;00m \u001b[38;5;28mself\u001b[39m\u001b[38;5;241m.\u001b[39mstdout:\n\u001b[1;32m-> 1196\u001b[0m     stdout \u001b[38;5;241m=\u001b[39m \u001b[38;5;28mself\u001b[39m\u001b[38;5;241m.\u001b[39mstdout\u001b[38;5;241m.\u001b[39mread()\n\u001b[0;32m   1197\u001b[0m     \u001b[38;5;28mself\u001b[39m\u001b[38;5;241m.\u001b[39mstdout\u001b[38;5;241m.\u001b[39mclose()\n\u001b[0;32m   1198\u001b[0m \u001b[38;5;28;01melif\u001b[39;00m \u001b[38;5;28mself\u001b[39m\u001b[38;5;241m.\u001b[39mstderr:\n",
            "\u001b[1;31mKeyboardInterrupt\u001b[0m: "
          ]
        }
      ],
      "source": [
        "\n",
        "from selenium import webdriver\n",
        "from selenium.webdriver.chrome.service import Service\n",
        "from selenium.webdriver.common.by import By\n",
        "from webdriver_manager.chrome import ChromeDriverManager\n",
        "\n",
        "service = Service(ChromeDriverManager().install())\n",
        "driver = webdriver.Chrome(service=service)\n",
        "\n",
        "# Opening the 'Vivino' website\n",
        "url = \"https://www.vivino.com/explore?e=eJzLLbI1VMvNzLM1UMtNrLA1NTBQS6609fNRS7Z1DQ1SKwDKpqfZliUWZaaWJOao5Rel2KakFier5SdV2hYllmTmpRfHJ-eX5pUAAFlgGO4%3D\"\n",
        "driver.get(url)\n",
        "\n",
        "# Optional: Adding some wait time for the page to fully load if needed\n",
        "driver.implicitly_wait(10)  # 10 seconds"
      ]
    },
    {
      "cell_type": "code",
      "execution_count": 20,
      "metadata": {},
      "outputs": [
        {
          "name": "stdout",
          "output_type": "stream",
          "text": [
            "Cookies accepted.\n"
          ]
        }
      ],
      "source": [
        "try:\n",
        "    # Create a function to click away the cookies\n",
        "    accept_cookies_button = driver.find_element(By.ID,\"didomi-notice-agree-button\")\n",
        "    accept_cookies_button.click()\n",
        "    print(\"Cookies accepted.\")\n",
        "except Exception as e:\n",
        "    print(\"Cookie acceptance button not found or could not be clicked:\", e)\n"
      ]
    },
    {
      "cell_type": "code",
      "execution_count": 21,
      "metadata": {
        "id": "hNo7PCjnnser"
      },
      "outputs": [],
      "source": [
        "# import requests\n",
        "# import from bs4 import BeautifulSoup\n",
        "\n",
        "import requests\n",
        "from bs4 import BeautifulSoup"
      ]
    },
    {
      "cell_type": "markdown",
      "metadata": {},
      "source": [
        "Infinite scroll to load all content (from the URL entered in the first cell)"
      ]
    },
    {
      "cell_type": "code",
      "execution_count": 22,
      "metadata": {},
      "outputs": [],
      "source": [
        "from bs4 import BeautifulSoup\n",
        "import time\n",
        "driver.implicitly_wait(10)\n",
        "\n",
        "# Infinite scroll to load more content\n",
        "scroll_pause_time = 5  # Adjust if necessary\n",
        "last_height = driver.execute_script(\"return document.body.scrollHeight\")\n",
        "\n",
        "while True:\n",
        "    # Scroll down to the bottom of the page\n",
        "    driver.execute_script(\"window.scrollTo(0, document.body.scrollHeight);\")\n",
        "    \n",
        "    # Wait for the new page to load\n",
        "    time.sleep(scroll_pause_time)\n",
        "    \n",
        "    # Calculate new scroll height and compare with the last scroll height\n",
        "    new_height = driver.execute_script(\"return document.body.scrollHeight\")\n",
        "    if new_height == last_height:\n",
        "        break  # Stop if we've reached the end of the page\n",
        "    last_height = new_height\n",
        "\n",
        "# Get the final page source after all content is loaded\n",
        "page_source = driver.page_source\n",
        "\n",
        "# Parse the page source with BeautifulSoup\n",
        "soup = BeautifulSoup(page_source, 'html.parser')"
      ]
    },
    {
      "cell_type": "markdown",
      "metadata": {},
      "source": [
        "Scraping all the data"
      ]
    },
    {
      "cell_type": "code",
      "execution_count": 23,
      "metadata": {},
      "outputs": [],
      "source": [
        "import csv\n",
        "from bs4 import BeautifulSoup\n",
        "\n",
        "# Create empty lists to store the data\n",
        "brands = []\n",
        "wines = []\n",
        "ratings = []\n",
        "prices = []\n",
        "\n",
        "# Find all wine entries on the page\n",
        "wine_entries = soup.find_all(class_='card__card--2R5Wh wineCard__wineCardContent--3cwZt')\n",
        "\n",
        "for entry in wine_entries:\n",
        "    # Extract brand\n",
        "    brand = entry.find(class_='wineInfoVintage__truncate--3QAtw')\n",
        "    if brand:\n",
        "        brands.append(brand.get_text(strip=True))\n",
        "\n",
        "    # Extract wine name\n",
        "    wine = entry.find(class_='wineInfoVintage__vintage--VvWlU wineInfoVintage__truncate--3QAtw') \n",
        "    if wine:\n",
        "        wines.append(wine.get_text(strip=True))\n",
        "\n",
        "    # Extract rating\n",
        "    rating = entry.find(class_='vivinoRating_averageValue__uDdPM')\n",
        "    if rating:\n",
        "        ratings.append(rating.get_text(strip=True))\n",
        "\n",
        "    # Extract curreny & price\n",
        "    price_divs = entry.find_all( class_='addToCartButton__price--qJdh4') \n",
        "    for price_div in price_divs:\n",
        "        currency = price_div.find('div', class_='addToCartButton__currency--2CTNX')  \n",
        "        price = price_div.find_all('div')[1]  \n",
        "        full_price = f\"{currency.get_text(strip=True) if currency else ''}{price.get_text(strip=True) if price else ''}\"\n",
        "        prices.append(full_price)  # Save the full price to the list"
      ]
    },
    {
      "cell_type": "markdown",
      "metadata": {},
      "source": [
        "Saving the data to a CSV file"
      ]
    },
    {
      "cell_type": "code",
      "execution_count": 24,
      "metadata": {},
      "outputs": [
        {
          "name": "stdout",
          "output_type": "stream",
          "text": [
            "Data saved to 'wine_data.csv' successfully.\n"
          ]
        }
      ],
      "source": [
        "with open('wine_data.csv', mode='w', newline='', encoding='utf-8') as file:\n",
        "    writer = csv.writer(file)\n",
        "\n",
        "    # Write the header row\n",
        "    writer.writerow(['Brand', 'Wine', 'Rating', 'Price'])\n",
        "\n",
        "    # Write the data rows\n",
        "    for brand, wine, rating, price in zip(brands, wines, ratings, prices):\n",
        "        writer.writerow([\n",
        "            brand,\n",
        "            wine,\n",
        "            rating,\n",
        "            price\n",
        "        ])\n",
        "\n",
        "print(\"Data saved to 'wine_data.csv' successfully.\")\n"
      ]
    },
    {
      "cell_type": "markdown",
      "metadata": {},
      "source": [
        "ROOD 0-20"
      ]
    },
    {
      "cell_type": "code",
      "execution_count": null,
      "metadata": {
        "colab": {
          "base_uri": "https://localhost:8080/"
        },
        "id": "ExDV8v7sthd7",
        "outputId": "47214e4a-6bfa-4fed-e22c-b4c9a706472f"
      },
      "outputs": [],
      "source": [
        "## Rode Spaanse Wijnen 0-20 euro\n",
        "\n",
        "url = 'https://www.vivino.com/explore?e=eJwdijELgCAUBv_NN1v7G9uiIWiKCHtZSJnik8p_n7TcDXcuUgVnL1Jw-qVagTN1LZiaoUcocd_o1tGapE_4uNJqhOGXTIuRNAfLh-BJ41RWzlJsBD8_VgEezg%3D%3D'\n",
        "request = requests.get(url, headers =  {'User-agent': 'Mozilla/5.0'})\n",
        "red_0_20 = BeautifulSoup(request.text)\n",
        "red_0_20"
      ]
    },
    {
      "cell_type": "markdown",
      "metadata": {},
      "source": [
        "ROOD 20-500"
      ]
    },
    {
      "cell_type": "code",
      "execution_count": null,
      "metadata": {
        "colab": {
          "base_uri": "https://localhost:8080/"
        },
        "id": "0a1wIksLtzn3",
        "outputId": "d38ff9f9-8853-4fe5-df9a-f165abfd79d0"
      },
      "outputs": [],
      "source": [
        "## Rode Spaanse Wijnen 20-500 euro\n",
        "\n",
        "url = 'https://www.vivino.com/explore?e=eJwdir0KgCAURt_mmy1ovGNbNARNEWE3EyE11H58-6TlnOEcG6iCNY5qAStfaoQAZ-o7MLXjgLNkvdMtg1FJHvBho01Fhl8zBZmM03Fhf7mEJ01zuTnHYhXx8wPloSCM'\n",
        "request = requests.get(url, headers =  {'User-agent': 'Mozilla/5.0'})\n",
        "red_20_500 = BeautifulSoup(request.text)\n",
        "red_20_500"
      ]
    },
    {
      "cell_type": "markdown",
      "metadata": {},
      "source": [
        "WIT 0-20"
      ]
    },
    {
      "cell_type": "code",
      "execution_count": null,
      "metadata": {
        "colab": {
          "base_uri": "https://localhost:8080/"
        },
        "id": "rTEMkIL-ymZW",
        "outputId": "6ca6a896-c27e-455a-f109-85dda755bc68"
      },
      "outputs": [],
      "source": [
        "## Witte Spaanse Wijnen 0-20 euro\n",
        "\n",
        "url = 'https://www.vivino.com/explore?e=eJwdi7EOQDAYBt_mm7F_o00MEpOIVJU0VKV_g769xnI3XM4FlnD2ZAGnXlYFdGLbQLPuO1w5bitvFayJ6oAPCxcjGn5OnI3E6bJ6FzxxGFnlVbKN4OcHVhEezw%3D%3D'\n",
        "request = requests.get(url, headers =  {'User-agent': 'Mozilla/5.0'})\n",
        "white_0_20 = BeautifulSoup(request.text)\n",
        "white_0_20 "
      ]
    },
    {
      "cell_type": "markdown",
      "metadata": {},
      "source": [
        "WIT 20-500"
      ]
    },
    {
      "cell_type": "code",
      "execution_count": null,
      "metadata": {
        "colab": {
          "base_uri": "https://localhost:8080/"
        },
        "id": "pMlQwHNP0Lil",
        "outputId": "b0e70f60-c3fe-4464-e274-cb6278f16fbc"
      },
      "outputs": [],
      "source": [
        "## Witte Spaanse Wijnen 21-500 euro\n",
        "\n",
        "url = 'https://www.vivino.com/explore?e=eJzLLbI1VMvNzLM1MlDLTaywNTUwUEuutPXzUUu2dQ0NUisASqen2ZYlFmWmliTmqOUXpdimpBYnq-UnVdompRaXxBdkJmcXq5WXRMfaGgG1FgPp1GI1MAkAfZUfNA%3D%3D'\n",
        "request = requests.get(url, headers =  {'User-agent': 'Mozilla/5.0'})\n",
        "white_20_500 = BeautifulSoup(request.text)\n",
        "white_20_500 "
      ]
    },
    {
      "cell_type": "markdown",
      "metadata": {},
      "source": [
        "ROSE 0-500"
      ]
    },
    {
      "cell_type": "code",
      "execution_count": null,
      "metadata": {
        "colab": {
          "base_uri": "https://localhost:8080/"
        },
        "id": "RadMpxRG1JFH",
        "outputId": "2ccca26b-1fab-4823-a0a4-4d2396e5876d"
      },
      "outputs": [],
      "source": [
        "## Rose Spaanse Wijnen 0-500 euro\n",
        "\n",
        "url= 'https://www.vivino.com/explore?e=eJwdi70KgCAABt_mmw1q_Ma2aAiaIsLMQkgNtb-3T1ruhuNsYAFrHAWsfFgJAfWybaBY9x2OXLeVlwxGJ7nDh4WLjgp-fhlkMm6Lk_KnS7jTMLLMd8zWET8_0d4gXQ%3D%3D'\n",
        "request = requests.get(url, headers =  {'User-agent': 'Mozilla/5.0'})\n",
        "rose_0_500 = BeautifulSoup(request.text)\n",
        "rose_0_500"
      ]
    },
    {
      "cell_type": "markdown",
      "metadata": {},
      "source": [
        "SPARKLING 0-500"
      ]
    },
    {
      "cell_type": "code",
      "execution_count": null,
      "metadata": {
        "colab": {
          "base_uri": "https://localhost:8080/"
        },
        "id": "UINhqcAS1xOF",
        "outputId": "4faa9a9e-cf58-4f06-9c22-782b953c848b"
      },
      "outputs": [],
      "source": [
        "## Sparkling Spaanse Wijnen 0-500 euro\n",
        "\n",
        "url = 'https://www.vivino.com/explore?e=eJwdi70KgCAABt_mm41o_Ma2aAiaIsLMQkgNtb-3T1ruhuNsYAFrHAWsfFgJAfWybaBY9x2OXLeVlwxGJ7nDh4WLjgp-fhlkMm6Lk_KnS7jTMLLMd8zWET8_0c4gXA%3D%3D'\n",
        "request = requests.get(url, headers =  {'User-agent': 'Mozilla/5.0'})\n",
        "sparkling_0_500 = BeautifulSoup(request.text)\n",
        "sparkling_0_500"
      ]
    },
    {
      "cell_type": "markdown",
      "metadata": {},
      "source": [
        "DESSERT 0-500"
      ]
    },
    {
      "cell_type": "code",
      "execution_count": null,
      "metadata": {},
      "outputs": [],
      "source": [
        "## Dessert Spaanse Wijnen 0-500 euro\n",
        "\n",
        "url = 'https://www.vivino.com/explore?e=eJwdi70KgCAABt_mm22Ipm9si4agKSLMLITUUPt7-6TlbjjOBhawxlHAyoelEFAv2waKdd_hyHVbeclgdJI7fFi46Kjg55dBJuO2OCl_uoQ7DSOrfMdsHfHzA9IOIGA%3D'\n",
        "request = requests.get(url, headers =  {'User-agent': 'Mozilla/5.0'})\n",
        "dessert_0_500 = BeautifulSoup(request.text)\n",
        "dessert_0_500"
      ]
    },
    {
      "cell_type": "markdown",
      "metadata": {},
      "source": [
        "FORTIFIED 0-500"
      ]
    },
    {
      "cell_type": "code",
      "execution_count": null,
      "metadata": {},
      "outputs": [],
      "source": [
        "## Fortified Spaanse Wijnen 0-500 euro\n",
        "\n",
        "url = 'https://www.vivino.com/explore?e=eJzLLbI1VMvNzLM1UMtNrLA1NTBQS6609fNRS7Z1DQ1SKwDKpqfZliUWZaaWJOao5Rel2KakFier5SdV2ialFpfEF2QmZxerlZdEx9oamQD1FgMZqcVqYBIAh0UfNg%3D%3D'\n",
        "request = requests.get(url, headers =  {'User-agent': 'Mozilla/5.0'})\n",
        "fortified_0_500 = BeautifulSoup(request.text)\n",
        "fortified_0_500"
      ]
    }
  ],
  "metadata": {
    "colab": {
      "provenance": []
    },
    "kernelspec": {
      "display_name": "Python 3",
      "name": "python3"
    },
    "language_info": {
      "codemirror_mode": {
        "name": "ipython",
        "version": 3
      },
      "file_extension": ".py",
      "mimetype": "text/x-python",
      "name": "python",
      "nbconvert_exporter": "python",
      "pygments_lexer": "ipython3",
      "version": "3.12.4"
    }
  },
  "nbformat": 4,
  "nbformat_minor": 0
}
