{
  "cells": [
    {
      "cell_type": "markdown",
      "metadata": {},
      "source": [
        "# Team Project - OCDM\n",
        "\n",
        "## Explanation \n",
        "In this document is the code written to scrape the data from vivino, to look at if price have influence on the ratings of the different wines.\n",
        "\n",
        "### Code\n",
        "We will use selenium and Beautifull Soup in this document"
      ]
    },
    {
      "cell_type": "markdown",
      "metadata": {},
      "source": [
        "#### Install the packages & librabies \n",
        "\n",
        "Explanation what we are doing:"
      ]
    },
    {
      "cell_type": "code",
      "execution_count": 18,
      "metadata": {
        "colab": {
          "base_uri": "https://localhost:8080/",
          "height": 1000
        },
        "id": "KqSSIap269zb",
        "outputId": "2e966433-ea96-4460-e83b-c65fc6cb8bf0"
      },
      "outputs": [
        {
          "name": "stdout",
          "output_type": "stream",
          "text": [
            "Requirement already satisfied: selenium in c:\\users\\ashle\\anaconda3\\lib\\site-packages (4.24.0)\n",
            "Requirement already satisfied: urllib3<3,>=1.26 in c:\\users\\ashle\\anaconda3\\lib\\site-packages (from urllib3[socks]<3,>=1.26->selenium) (2.2.2)\n",
            "Requirement already satisfied: trio~=0.17 in c:\\users\\ashle\\anaconda3\\lib\\site-packages (from selenium) (0.26.2)\n",
            "Requirement already satisfied: trio-websocket~=0.9 in c:\\users\\ashle\\anaconda3\\lib\\site-packages (from selenium) (0.11.1)\n",
            "Requirement already satisfied: certifi>=2021.10.8 in c:\\users\\ashle\\anaconda3\\lib\\site-packages (from selenium) (2024.7.4)\n",
            "Requirement already satisfied: typing_extensions~=4.9 in c:\\users\\ashle\\anaconda3\\lib\\site-packages (from selenium) (4.11.0)\n",
            "Requirement already satisfied: websocket-client~=1.8 in c:\\users\\ashle\\anaconda3\\lib\\site-packages (from selenium) (1.8.0)\n",
            "Requirement already satisfied: attrs>=23.2.0 in c:\\users\\ashle\\anaconda3\\lib\\site-packages (from trio~=0.17->selenium) (24.2.0)\n",
            "Requirement already satisfied: sortedcontainers in c:\\users\\ashle\\anaconda3\\lib\\site-packages (from trio~=0.17->selenium) (2.4.0)\n",
            "Requirement already satisfied: idna in c:\\users\\ashle\\anaconda3\\lib\\site-packages (from trio~=0.17->selenium) (3.7)\n",
            "Requirement already satisfied: outcome in c:\\users\\ashle\\anaconda3\\lib\\site-packages (from trio~=0.17->selenium) (1.3.0.post0)\n",
            "Requirement already satisfied: sniffio>=1.3.0 in c:\\users\\ashle\\anaconda3\\lib\\site-packages (from trio~=0.17->selenium) (1.3.0)\n",
            "Requirement already satisfied: cffi>=1.14 in c:\\users\\ashle\\anaconda3\\lib\\site-packages (from trio~=0.17->selenium) (1.16.0)\n",
            "Requirement already satisfied: wsproto>=0.14 in c:\\users\\ashle\\anaconda3\\lib\\site-packages (from trio-websocket~=0.9->selenium) (1.2.0)\n",
            "Requirement already satisfied: pysocks!=1.5.7,<2.0,>=1.5.6 in c:\\users\\ashle\\anaconda3\\lib\\site-packages (from urllib3[socks]<3,>=1.26->selenium) (1.7.1)\n",
            "Requirement already satisfied: pycparser in c:\\users\\ashle\\anaconda3\\lib\\site-packages (from cffi>=1.14->trio~=0.17->selenium) (2.21)\n",
            "Requirement already satisfied: h11<1,>=0.9.0 in c:\\users\\ashle\\anaconda3\\lib\\site-packages (from wsproto>=0.14->trio-websocket~=0.9->selenium) (0.14.0)\n",
            "Requirement already satisfied: webdriver_manager in c:\\users\\ashle\\anaconda3\\lib\\site-packages (4.0.2)\n",
            "Requirement already satisfied: requests in c:\\users\\ashle\\anaconda3\\lib\\site-packages (from webdriver_manager) (2.32.2)\n",
            "Requirement already satisfied: python-dotenv in c:\\users\\ashle\\anaconda3\\lib\\site-packages (from webdriver_manager) (0.21.0)\n",
            "Requirement already satisfied: packaging in c:\\users\\ashle\\anaconda3\\lib\\site-packages (from webdriver_manager) (23.2)\n",
            "Requirement already satisfied: charset-normalizer<4,>=2 in c:\\users\\ashle\\anaconda3\\lib\\site-packages (from requests->webdriver_manager) (2.0.4)\n",
            "Requirement already satisfied: idna<4,>=2.5 in c:\\users\\ashle\\anaconda3\\lib\\site-packages (from requests->webdriver_manager) (3.7)\n",
            "Requirement already satisfied: urllib3<3,>=1.21.1 in c:\\users\\ashle\\anaconda3\\lib\\site-packages (from requests->webdriver_manager) (2.2.2)\n",
            "Requirement already satisfied: certifi>=2017.4.17 in c:\\users\\ashle\\anaconda3\\lib\\site-packages (from requests->webdriver_manager) (2024.7.4)\n"
          ]
        }
      ],
      "source": [
        "#installing packages\n",
        "\n",
        "!pip3 install selenium\n",
        "!pip3 install webdriver_manager\n",
        "\n",
        "#libraries\n",
        "\n",
        "from selenium import webdriver\n",
        "from selenium.webdriver.chrome.service import Service\n",
        "from webdriver_manager.chrome import ChromeDriverManager\n",
        "\n",
        "service = Service(ChromeDriverManager().install())\n",
        "driver = webdriver.Chrome(service=service)\n",
        "\n",
        "# Opening the 'Vivino' website\n",
        "url = \"https://www.vivino.com/explore?e=eJzLLbI1VMvNzLM1UMtNrLA1NTBQS6609fNRS7Z1DQ1SKwDKpqfZliUWZaaWJOao5Rel2KakFier5SdV2hYllmTmpRfHJ-eX5pUAAFlgGO4%3D\"\n",
        "driver.get(url)\n",
        "\n",
        "# Optional: Adding some wait time for the page to fully load if needed\n",
        "driver.implicitly_wait(10)  # 10 seconds\n"
      ]
    },
    {
      "cell_type": "code",
      "execution_count": 13,
      "metadata": {
        "id": "hNo7PCjnnser"
      },
      "outputs": [],
      "source": [
        "# import requests\n",
        "# import from bs4 import BeautifulSoup\n",
        "\n",
        "import requests\n",
        "from bs4 import BeautifulSoup"
      ]
    },
    {
      "cell_type": "code",
      "execution_count": 20,
      "metadata": {},
      "outputs": [
        {
          "ename": "SyntaxError",
          "evalue": "expression cannot contain assignment, perhaps you meant \"==\"? (1137356842.py, line 1)",
          "output_type": "error",
          "traceback": [
            "\u001b[1;36m  Cell \u001b[1;32mIn[20], line 1\u001b[1;36m\u001b[0m\n\u001b[1;33m    category_filter_button = driver.find_element(By.type_ =\"checkbox\")\u001b[0m\n\u001b[1;37m                                                 ^\u001b[0m\n\u001b[1;31mSyntaxError\u001b[0m\u001b[1;31m:\u001b[0m expression cannot contain assignment, perhaps you meant \"==\"?\n"
          ]
        }
      ],
      "source": [
        "\n",
        "category_filter_button = driver.find_element(By.type_ =\"checkbox\")\n",
        "price_filter_button.click()"
      ]
    },
    {
      "cell_type": "code",
      "execution_count": null,
      "metadata": {
        "colab": {
          "base_uri": "https://localhost:8080/"
        },
        "id": "ExDV8v7sthd7",
        "outputId": "47214e4a-6bfa-4fed-e22c-b4c9a706472f"
      },
      "outputs": [],
      "source": [
        "## WITTE WIJN\n",
        "\n",
        "url_white = 'https://www.vivino.com/explore?e=eJzLLbI1VMvNzLM1UMtNrLA1NTBQS6609fNRS7Z1DQ1SKwDKpqfZliUWZaaWJOao5Rel2KakFier5SdV2hYllmTmpRfHJ-eX5pWolZdEx9oaAQAROBsm'\n",
        "request_white = requests.get(url_white, headers =  {'User-agent': 'Mozilla/5.0'})\n",
        "white_wines = BeautifulSoup(request_white.text)\n",
        "white_wines"
      ]
    },
    {
      "cell_type": "code",
      "execution_count": null,
      "metadata": {
        "colab": {
          "base_uri": "https://localhost:8080/"
        },
        "id": "0a1wIksLtzn3",
        "outputId": "d38ff9f9-8853-4fe5-df9a-f165abfd79d0"
      },
      "outputs": [],
      "source": [
        "## RODE WIJN\n",
        "\n",
        "url_red = 'https://www.vivino.com/explore?e=eJzLLbI1VMvNzLM1UMtNrLA1NTBQS6609fNRS7Z1DQ1SKwDKpqfZliUWZaaWJOao5Rel2KakFier5SdV2hYllmTmpRfHJ-eX5pWolZdEx9oaAgARNxsl'\n",
        "request_red = requests.get(url_red, headers =  {'User-agent': 'Mozilla/5.0'})\n",
        "red_wines = BeautifulSoup(request_red.text)\n",
        "red_wines"
      ]
    },
    {
      "cell_type": "code",
      "execution_count": null,
      "metadata": {
        "colab": {
          "base_uri": "https://localhost:8080/"
        },
        "id": "rTEMkIL-ymZW",
        "outputId": "6ca6a896-c27e-455a-f109-85dda755bc68"
      },
      "outputs": [],
      "source": [
        "## ROSE WIJNEN\n",
        "\n",
        "url_rose = 'https://www.vivino.com/explore?e=eJzLLbI1VMvNzLM1UMtNrLA1NTBQS6609fNRS7Z1DQ1SKwDKpqfZliUWZaaWJOao5Rel2KakFier5SdV2hYllmTmpRfHJ-eX5pWolZdEx9qaAAAROhso'\n",
        "request_rose = requests.get(url_rose, headers =  {'User-agent': 'Mozilla/5.0'})\n",
        "rose_wines = BeautifulSoup(request_rose.text)\n",
        "rose_wines"
      ]
    },
    {
      "cell_type": "code",
      "execution_count": null,
      "metadata": {
        "colab": {
          "base_uri": "https://localhost:8080/"
        },
        "id": "pMlQwHNP0Lil",
        "outputId": "b0e70f60-c3fe-4464-e274-cb6278f16fbc"
      },
      "outputs": [],
      "source": [
        "## DESSERT WIJNEN\n",
        "\n",
        "url_dessert = 'https://www.vivino.com/explore?e=eJzLLbI1VMvNzLM1UMtNrLA1NTBQS6609fNRS7Z1DQ1SKwDKpqfZliUWZaaWJOao5Rel2KakFier5SdV2hYllmTmpRfHJ-eX5pWolZdEx9qaAwARPRsr'\n",
        "request_dessert = requests.get(url_dessert, headers =  {'User-agent': 'Mozilla/5.0'})\n",
        "dessert_wines = BeautifulSoup(request_dessert.text)\n",
        "dessert_wines"
      ]
    },
    {
      "cell_type": "code",
      "execution_count": null,
      "metadata": {
        "colab": {
          "base_uri": "https://localhost:8080/"
        },
        "id": "RadMpxRG1JFH",
        "outputId": "2ccca26b-1fab-4823-a0a4-4d2396e5876d"
      },
      "outputs": [],
      "source": [
        "## SPARKLING WIJNEN\n",
        "\n",
        "url_sparkling = 'https://www.vivino.com/explore?e=eJzLLbI1VMvNzLM1UMtNrLA1NTBQS6609fNRS7Z1DQ1SKwDKpqfZliUWZaaWJOao5Rel2KakFier5SdV2hYllmTmpRfHJ-eX5pWolZdEx9oaAwARORsn'\n",
        "request_sparkling = requests.get(url_sparkling, headers =  {'User-agent': 'Mozilla/5.0'})\n",
        "sparkling_wines = BeautifulSoup(request_sparkling.text)\n",
        "sparkling_wines"
      ]
    },
    {
      "cell_type": "code",
      "execution_count": null,
      "metadata": {
        "colab": {
          "base_uri": "https://localhost:8080/"
        },
        "id": "UINhqcAS1xOF",
        "outputId": "4faa9a9e-cf58-4f06-9c22-782b953c848b"
      },
      "outputs": [],
      "source": [
        "## FORTIFIED WIJNEN\n",
        "\n",
        "url_fortified = 'https://www.vivino.com/explore?e=eJzLLbI1VMvNzLM1UMtNrLA1NTBQS6609fNRS7Z1DQ1SKwDKpqfZliUWZaaWJOao5Rel2KakFier5SdV2hYllmTmpRfHJ-eX5pWolZdEx9oamQAALJIbWg%3D%3D'\n",
        "request_fortified = requests.get(url_fortified, headers =  {'User-agent': 'Mozilla/5.0'})\n",
        "fortified_wines = BeautifulSoup(request_fortified.text)\n",
        "fortified_wines"
      ]
    }
  ],
  "metadata": {
    "colab": {
      "provenance": []
    },
    "kernelspec": {
      "display_name": "Python 3",
      "name": "python3"
    },
    "language_info": {
      "codemirror_mode": {
        "name": "ipython",
        "version": 3
      },
      "file_extension": ".py",
      "mimetype": "text/x-python",
      "name": "python",
      "nbconvert_exporter": "python",
      "pygments_lexer": "ipython3",
      "version": "3.12.4"
    }
  },
  "nbformat": 4,
  "nbformat_minor": 0
}
