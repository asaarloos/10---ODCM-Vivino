{
  "cells": [
    {
      "cell_type": "markdown",
      "metadata": {},
      "source": [
        "# Team Project - OCDM\n",
        "\n",
        "## Explanation \n",
        "In this document is the code written to scrape the data from vivino, to look at if price have influence on the ratings of the different wines.\n",
        "\n",
        "### Code\n",
        "We will use selenium and Beautifull Soup in this document"
      ]
    },
    {
      "cell_type": "markdown",
      "metadata": {},
      "source": [
        "#### Install the packages & librabies \n",
        "\n",
        "Explanation what we are doing:"
      ]
    },
    {
      "cell_type": "code",
      "execution_count": null,
      "metadata": {
        "colab": {
          "base_uri": "https://localhost:8080/",
          "height": 1000
        },
        "id": "KqSSIap269zb",
        "outputId": "2e966433-ea96-4460-e83b-c65fc6cb8bf0"
      },
      "outputs": [],
      "source": [
        "#installing packages\n",
        "\n",
        "!pip3 install selenium\n",
        "!pip3 install webdriver_manager\n",
        "\n",
        "#libraries\n",
        "\n",
        "from selenium import webdriver\n",
        "from selenium.webdriver.chrome.service import Service\n",
        "from selenium.webdriver.common.by import By\n",
        "from webdriver_manager.chrome import ChromeDriverManager\n",
        "\n",
        "service = Service(ChromeDriverManager().install())\n",
        "driver = webdriver.Chrome(service=service)\n",
        "\n",
        "# Opening the 'Vivino' website\n",
        "url = \"https://www.vivino.com/explore?e=eJzLLbI1VMvNzLM1UMtNrLA1NTBQS6609fNRS7Z1DQ1SKwDKpqfZliUWZaaWJOao5Rel2KakFier5SdV2hYllmTmpRfHJ-eX5pUAAFlgGO4%3D\"\n",
        "driver.get(url)\n",
        "\n",
        "# Optional: Adding some wait time for the page to fully load if needed\n",
        "driver.implicitly_wait(10)  # 10 seconds\n"
      ]
    },
    {
      "cell_type": "code",
      "execution_count": 17,
      "metadata": {},
      "outputs": [],
      "source": [
        "\n",
        "from selenium import webdriver\n",
        "from selenium.webdriver.chrome.service import Service\n",
        "from selenium.webdriver.common.by import By\n",
        "from webdriver_manager.chrome import ChromeDriverManager\n",
        "\n",
        "service = Service(ChromeDriverManager().install())\n",
        "driver = webdriver.Chrome(service=service)\n",
        "\n",
        "# Opening the 'Vivino' website\n",
        "url = \"https://www.vivino.com/explore?e=eJzLLbI1VMvNzLM1UMtNrLA1NTBQS6609fNRS7Z1DQ1SKwDKpqfZliUWZaaWJOao5Rel2KakFier5SdV2hYllmTmpRfHJ-eX5pUAAFlgGO4%3D\"\n",
        "driver.get(url)\n",
        "\n",
        "# Optional: Adding some wait time for the page to fully load if needed\n",
        "driver.implicitly_wait(10)  # 10 seconds"
      ]
    },
    {
      "cell_type": "code",
      "execution_count": 18,
      "metadata": {},
      "outputs": [
        {
          "name": "stdout",
          "output_type": "stream",
          "text": [
            "Cookies accepted.\n"
          ]
        }
      ],
      "source": [
        "try:\n",
        "    # Create a function to click away the cookies\n",
        "    accept_cookies_button = driver.find_element(By.ID,\"didomi-notice-agree-button\")\n",
        "    accept_cookies_button.click()\n",
        "    print(\"Cookies accepted.\")\n",
        "except Exception as e:\n",
        "    print(\"Cookie acceptance button not found or could not be clicked:\", e)\n"
      ]
    },
    {
      "cell_type": "code",
      "execution_count": 19,
      "metadata": {},
      "outputs": [
        {
          "name": "stdout",
          "output_type": "stream",
          "text": [
            "An error occurred: Message: element not interactable\n",
            "  (Session info: chrome=129.0.6668.59)\n",
            "Stacktrace:\n",
            "\tGetHandleVerifier [0x011C6AB3+25587]\n",
            "\t(No symbol) [0x01159C54]\n",
            "\t(No symbol) [0x01051F89]\n",
            "\t(No symbol) [0x01097F6F]\n",
            "\t(No symbol) [0x0108D58D]\n",
            "\t(No symbol) [0x010BAB9C]\n",
            "\t(No symbol) [0x0108D044]\n",
            "\t(No symbol) [0x010BAE34]\n",
            "\t(No symbol) [0x010D5370]\n",
            "\t(No symbol) [0x010BA936]\n",
            "\t(No symbol) [0x0108BA73]\n",
            "\t(No symbol) [0x0108C4CD]\n",
            "\tGetHandleVerifier [0x014A4C63+3032483]\n",
            "\tGetHandleVerifier [0x014F6B99+3368153]\n",
            "\tGetHandleVerifier [0x01258F62+624802]\n",
            "\tGetHandleVerifier [0x012607DC+655644]\n",
            "\t(No symbol) [0x0116260D]\n",
            "\t(No symbol) [0x0115F6D8]\n",
            "\t(No symbol) [0x0115F875]\n",
            "\t(No symbol) [0x01151CA6]\n",
            "\tBaseThreadInitThunk [0x75767BA9+25]\n",
            "\tRtlInitializeExceptionChain [0x7757C11B+107]\n",
            "\tRtlClearBits [0x7757C09F+191]\n",
            "\n"
          ]
        }
      ],
      "source": [
        "try:\n",
        "    # Locate the label element containing the checkbox\n",
        "    label = WebDriverWait(driver, 20).until(\n",
        "        EC.presence_of_element_located((By.CSS_SELECTOR, \"label.filterByWineType__pill--DDMJ3\"))\n",
        "    )\n",
        "\n",
        "    # Click the checkbox within the label\n",
        "    checkbox = label.find_element(By.TAG_NAME, \"input\")\n",
        "    checkbox.click()\n",
        "    \n",
        "    print(\"Checkbox clicked.\")\n",
        "\n",
        "    # Wait for the label class to change\n",
        "    WebDriverWait(driver, 20).until(\n",
        "        EC.presence_of_element_located((By.CSS_SELECTOR, \"label.pill__pill--2AMAs.pill__selected--3KX2r.filterByWineType__pill--DDMJ3\"))\n",
        "    )\n",
        "\n",
        "    # Verify that the label now has the selected class\n",
        "    updated_label = driver.find_element(By.CSS_SELECTOR, \"label.pill__pill--2AMAs.pill__selected--3KX2r.filterByWineType__pill--DDMJ3\")\n",
        "    if \"pill__selected--3KX2r\" in updated_label.get_attribute(\"class\"):\n",
        "        print(\"Red wine filter applied. Label has changed to selected state.\")\n",
        "    else:\n",
        "        print(\"Label did not change to selected state.\")\n",
        "    \n",
        "except Exception as e:\n",
        "    print(\"An error occurred:\", e)\n",
        "finally:\n",
        "    # Uncomment the line below if you want to close the browser after inspecting\n",
        "    # driver.quit()\n",
        "    pass  # Keep the browser open"
      ]
    },
    {
      "cell_type": "code",
      "execution_count": 39,
      "metadata": {
        "id": "hNo7PCjnnser"
      },
      "outputs": [],
      "source": [
        "# import requests\n",
        "# import from bs4 import BeautifulSoup\n",
        "\n",
        "import requests\n",
        "from bs4 import BeautifulSoup"
      ]
    },
    {
      "cell_type": "code",
      "execution_count": null,
      "metadata": {
        "colab": {
          "base_uri": "https://localhost:8080/"
        },
        "id": "ExDV8v7sthd7",
        "outputId": "47214e4a-6bfa-4fed-e22c-b4c9a706472f"
      },
      "outputs": [],
      "source": [
        "## WITTE WIJN\n",
        "\n",
        "url_white = 'https://www.vivino.com/explore?e=eJzLLbI1VMvNzLM1UMtNrLA1NTBQS6609fNRS7Z1DQ1SKwDKpqfZliUWZaaWJOao5Rel2KakFier5SdV2hYllmTmpRfHJ-eX5pWolZdEx9oaAQAROBsm'\n",
        "request_white = requests.get(url_white, headers =  {'User-agent': 'Mozilla/5.0'})\n",
        "white_wines = BeautifulSoup(request_white.text)\n",
        "white_wines"
      ]
    },
    {
      "cell_type": "code",
      "execution_count": null,
      "metadata": {
        "colab": {
          "base_uri": "https://localhost:8080/"
        },
        "id": "0a1wIksLtzn3",
        "outputId": "d38ff9f9-8853-4fe5-df9a-f165abfd79d0"
      },
      "outputs": [],
      "source": [
        "## RODE WIJN\n",
        "\n",
        "url_red = 'https://www.vivino.com/explore?e=eJzLLbI1VMvNzLM1UMtNrLA1NTBQS6609fNRS7Z1DQ1SKwDKpqfZliUWZaaWJOao5Rel2KakFier5SdV2hYllmTmpRfHJ-eX5pWolZdEx9oaAgARNxsl'\n",
        "request_red = requests.get(url_red, headers =  {'User-agent': 'Mozilla/5.0'})\n",
        "red_wines = BeautifulSoup(request_red.text)\n",
        "red_wines"
      ]
    },
    {
      "cell_type": "code",
      "execution_count": null,
      "metadata": {
        "colab": {
          "base_uri": "https://localhost:8080/"
        },
        "id": "rTEMkIL-ymZW",
        "outputId": "6ca6a896-c27e-455a-f109-85dda755bc68"
      },
      "outputs": [],
      "source": [
        "## ROSE WIJNEN\n",
        "\n",
        "url_rose = 'https://www.vivino.com/explore?e=eJzLLbI1VMvNzLM1UMtNrLA1NTBQS6609fNRS7Z1DQ1SKwDKpqfZliUWZaaWJOao5Rel2KakFier5SdV2hYllmTmpRfHJ-eX5pWolZdEx9qaAAAROhso'\n",
        "request_rose = requests.get(url_rose, headers =  {'User-agent': 'Mozilla/5.0'})\n",
        "rose_wines = BeautifulSoup(request_rose.text)\n",
        "rose_wines"
      ]
    },
    {
      "cell_type": "code",
      "execution_count": null,
      "metadata": {
        "colab": {
          "base_uri": "https://localhost:8080/"
        },
        "id": "pMlQwHNP0Lil",
        "outputId": "b0e70f60-c3fe-4464-e274-cb6278f16fbc"
      },
      "outputs": [],
      "source": [
        "## DESSERT WIJNEN\n",
        "\n",
        "url_dessert = 'https://www.vivino.com/explore?e=eJzLLbI1VMvNzLM1UMtNrLA1NTBQS6609fNRS7Z1DQ1SKwDKpqfZliUWZaaWJOao5Rel2KakFier5SdV2hYllmTmpRfHJ-eX5pWolZdEx9qaAwARPRsr'\n",
        "request_dessert = requests.get(url_dessert, headers =  {'User-agent': 'Mozilla/5.0'})\n",
        "dessert_wines = BeautifulSoup(request_dessert.text)\n",
        "dessert_wines"
      ]
    },
    {
      "cell_type": "code",
      "execution_count": null,
      "metadata": {
        "colab": {
          "base_uri": "https://localhost:8080/"
        },
        "id": "RadMpxRG1JFH",
        "outputId": "2ccca26b-1fab-4823-a0a4-4d2396e5876d"
      },
      "outputs": [],
      "source": [
        "## SPARKLING WIJNEN\n",
        "\n",
        "url_sparkling = 'https://www.vivino.com/explore?e=eJzLLbI1VMvNzLM1UMtNrLA1NTBQS6609fNRS7Z1DQ1SKwDKpqfZliUWZaaWJOao5Rel2KakFier5SdV2hYllmTmpRfHJ-eX5pWolZdEx9oaAwARORsn'\n",
        "request_sparkling = requests.get(url_sparkling, headers =  {'User-agent': 'Mozilla/5.0'})\n",
        "sparkling_wines = BeautifulSoup(request_sparkling.text)\n",
        "sparkling_wines"
      ]
    },
    {
      "cell_type": "code",
      "execution_count": null,
      "metadata": {
        "colab": {
          "base_uri": "https://localhost:8080/"
        },
        "id": "UINhqcAS1xOF",
        "outputId": "4faa9a9e-cf58-4f06-9c22-782b953c848b"
      },
      "outputs": [],
      "source": [
        "## FORTIFIED WIJNEN\n",
        "\n",
        "url_fortified = 'https://www.vivino.com/explore?e=eJzLLbI1VMvNzLM1UMtNrLA1NTBQS6609fNRS7Z1DQ1SKwDKpqfZliUWZaaWJOao5Rel2KakFier5SdV2hYllmTmpRfHJ-eX5pWolZdEx9oamQAALJIbWg%3D%3D'\n",
        "request_fortified = requests.get(url_fortified, headers =  {'User-agent': 'Mozilla/5.0'})\n",
        "fortified_wines = BeautifulSoup(request_fortified.text)\n",
        "fortified_wines"
      ]
    }
  ],
  "metadata": {
    "colab": {
      "provenance": []
    },
    "kernelspec": {
      "display_name": "Python 3",
      "name": "python3"
    },
    "language_info": {
      "codemirror_mode": {
        "name": "ipython",
        "version": 3
      },
      "file_extension": ".py",
      "mimetype": "text/x-python",
      "name": "python",
      "nbconvert_exporter": "python",
      "pygments_lexer": "ipython3",
      "version": "3.12.4"
    }
  },
  "nbformat": 4,
  "nbformat_minor": 0
}
